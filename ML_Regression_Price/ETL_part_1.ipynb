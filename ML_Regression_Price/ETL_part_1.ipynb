{
 "cells": [
  {
   "cell_type": "code",
   "execution_count": 1,
   "source": [
    "# import all necessary libraries\n",
    "import pandas as pd\n",
    "from sqlalchemy import create_engine"
   ],
   "outputs": [],
   "metadata": {}
  },
  {
   "cell_type": "code",
   "execution_count": 2,
   "source": [
    "# Azure SQL connection string building\n",
    "AZUREUID = 'vapak'                                    # Azure SQL database userid\n",
    "AZUREPWD = 'OLXparsing2021'                           # Azure SQL database password\n",
    "AZURESRV = 'webparsing.database.windows.net'   \t\t  # Azure SQL database server name (fully qualified)\n",
    "AZUREDB = 'webparsing'                                # Azure SQL database name (if it does not exit, pandas will create it)      \n",
    "DRIVER = 'ODBC Driver 17 for SQL Server'              # ODBC Driver\n",
    "\n",
    "# List of TABLES in he database\n",
    "TABLE_BASE = 'OLXparsing_test'      \t\t\t\t\t\t\t  # Azure SQL database table name   \n",
    "TABLE_STAT = 'OLXparsing_status_test'      \t\t\t\t\t\t\t  # Azure SQL database table name   \n",
    "\n",
    "\n",
    "connectionstring = 'mssql+pyodbc://{uid}:{password}@{server}:1433/{database}?driver={driver}'.format(\n",
    "\tuid=AZUREUID,\n",
    "\tpassword=AZUREPWD,\n",
    "\tserver=AZURESRV,\n",
    "\tdatabase=AZUREDB,\n",
    "\tdriver=DRIVER.replace(' ', '+'))\n",
    "\n",
    "\n",
    "engn = create_engine(connectionstring, fast_executemany=False)"
   ],
   "outputs": [],
   "metadata": {}
  },
  {
   "cell_type": "code",
   "execution_count": 5,
   "source": [
    "query_pars =  \"SELECT * FROM dbo.OLXparsing_test\""
   ],
   "outputs": [],
   "metadata": {}
  },
  {
   "cell_type": "code",
   "execution_count": 9,
   "source": [
    "dfsql = pd.read_sql(query_pars, engn, parse_dates=['execution_date','publication_date','seller_hist'])\n",
    "dfsql.head(5)"
   ],
   "outputs": [
    {
     "output_type": "execute_result",
     "data": {
      "text/html": [
       "<div>\n",
       "<style scoped>\n",
       "    .dataframe tbody tr th:only-of-type {\n",
       "        vertical-align: middle;\n",
       "    }\n",
       "\n",
       "    .dataframe tbody tr th {\n",
       "        vertical-align: top;\n",
       "    }\n",
       "\n",
       "    .dataframe thead th {\n",
       "        text-align: right;\n",
       "    }\n",
       "</style>\n",
       "<table border=\"1\" class=\"dataframe\">\n",
       "  <thead>\n",
       "    <tr style=\"text-align: right;\">\n",
       "      <th></th>\n",
       "      <th>execution_date</th>\n",
       "      <th>offer_id</th>\n",
       "      <th>publication_date</th>\n",
       "      <th>name</th>\n",
       "      <th>price</th>\n",
       "      <th>offer_info</th>\n",
       "      <th>tag_seller</th>\n",
       "      <th>tag_brand</th>\n",
       "      <th>tag_os</th>\n",
       "      <th>tag_screen</th>\n",
       "      <th>tag_condition</th>\n",
       "      <th>seller_name</th>\n",
       "      <th>seller_hist</th>\n",
       "    </tr>\n",
       "  </thead>\n",
       "  <tbody>\n",
       "    <tr>\n",
       "      <th>0</th>\n",
       "      <td>2021-09-25</td>\n",
       "      <td>463356322</td>\n",
       "      <td>2021-09-23</td>\n",
       "      <td>БУ iPhone 7 Plus 32/128/256Gb Black/Rose/Gold/...</td>\n",
       "      <td>5899.00</td>\n",
       "      <td>Продається Вживаний iPhone 7 Plus  Увага! Є в ...</td>\n",
       "      <td>Бизнес</td>\n",
       "      <td>Apple</td>\n",
       "      <td>iOS</td>\n",
       "      <td>5.55\"-6\"</td>\n",
       "      <td>Б/у</td>\n",
       "      <td>Василь</td>\n",
       "      <td>2017-05-01</td>\n",
       "    </tr>\n",
       "    <tr>\n",
       "      <th>1</th>\n",
       "      <td>2021-09-25</td>\n",
       "      <td>465428834</td>\n",
       "      <td>2021-09-23</td>\n",
       "      <td>Apple iPhone 7 Plus 32/128 black rose gold Гар...</td>\n",
       "      <td>5594.86</td>\n",
       "      <td>iPhone 7 Plus  (32 128 gb)Комплектація - серти...</td>\n",
       "      <td>Бизнес</td>\n",
       "      <td>Apple</td>\n",
       "      <td>iOS</td>\n",
       "      <td>5.1\"-5.5\"</td>\n",
       "      <td>Б/у</td>\n",
       "      <td>Ігор</td>\n",
       "      <td>2017-03-01</td>\n",
       "    </tr>\n",
       "    <tr>\n",
       "      <th>2</th>\n",
       "      <td>2021-09-25</td>\n",
       "      <td>468369414</td>\n",
       "      <td>2021-09-08</td>\n",
       "      <td>iPhone 7+ rose,black,gold  -32/128/256 з гаран...</td>\n",
       "      <td>6290.00</td>\n",
       "      <td>iPhone 7+ 32/128/256gb (Neverlock) Маємо велик...</td>\n",
       "      <td>Бізнес</td>\n",
       "      <td>Apple</td>\n",
       "      <td>iOS</td>\n",
       "      <td>4.5\"-5\"</td>\n",
       "      <td>Б/в</td>\n",
       "      <td>Анастасія</td>\n",
       "      <td>2014-06-01</td>\n",
       "    </tr>\n",
       "    <tr>\n",
       "      <th>3</th>\n",
       "      <td>2021-09-25</td>\n",
       "      <td>469925080</td>\n",
       "      <td>2021-09-08</td>\n",
       "      <td>iPhone 7+ silver/rose 32/128gb гарантія до 2 р...</td>\n",
       "      <td>6190.00</td>\n",
       "      <td>iPhone 7+  привезений з США в ідеальному стані...</td>\n",
       "      <td>Бізнес</td>\n",
       "      <td>Apple</td>\n",
       "      <td>iOS</td>\n",
       "      <td>4\"</td>\n",
       "      <td>Б/в</td>\n",
       "      <td>Анастасія</td>\n",
       "      <td>2015-09-01</td>\n",
       "    </tr>\n",
       "    <tr>\n",
       "      <th>4</th>\n",
       "      <td>2021-09-25</td>\n",
       "      <td>481051848</td>\n",
       "      <td>2021-09-25</td>\n",
       "      <td>Б/У iPhone 7+ 32/128GB у Ябко Тернопіль Руська...</td>\n",
       "      <td>6367.49</td>\n",
       "      <td>Магазин «Ябко» пропонує нову та вживану технік...</td>\n",
       "      <td>Бизнес</td>\n",
       "      <td>Apple</td>\n",
       "      <td>iOS</td>\n",
       "      <td>5.1\"-5.5\"</td>\n",
       "      <td>Б/у</td>\n",
       "      <td>Ябко Тернопіль</td>\n",
       "      <td>2017-11-01</td>\n",
       "    </tr>\n",
       "  </tbody>\n",
       "</table>\n",
       "</div>"
      ],
      "text/plain": [
       "  execution_date   offer_id publication_date  \\\n",
       "0     2021-09-25  463356322       2021-09-23   \n",
       "1     2021-09-25  465428834       2021-09-23   \n",
       "2     2021-09-25  468369414       2021-09-08   \n",
       "3     2021-09-25  469925080       2021-09-08   \n",
       "4     2021-09-25  481051848       2021-09-25   \n",
       "\n",
       "                                                name    price  \\\n",
       "0  БУ iPhone 7 Plus 32/128/256Gb Black/Rose/Gold/...  5899.00   \n",
       "1  Apple iPhone 7 Plus 32/128 black rose gold Гар...  5594.86   \n",
       "2  iPhone 7+ rose,black,gold  -32/128/256 з гаран...  6290.00   \n",
       "3  iPhone 7+ silver/rose 32/128gb гарантія до 2 р...  6190.00   \n",
       "4  Б/У iPhone 7+ 32/128GB у Ябко Тернопіль Руська...  6367.49   \n",
       "\n",
       "                                          offer_info tag_seller tag_brand  \\\n",
       "0  Продається Вживаний iPhone 7 Plus  Увага! Є в ...     Бизнес     Apple   \n",
       "1  iPhone 7 Plus  (32 128 gb)Комплектація - серти...     Бизнес     Apple   \n",
       "2  iPhone 7+ 32/128/256gb (Neverlock) Маємо велик...     Бізнес     Apple   \n",
       "3  iPhone 7+  привезений з США в ідеальному стані...     Бізнес     Apple   \n",
       "4  Магазин «Ябко» пропонує нову та вживану технік...     Бизнес     Apple   \n",
       "\n",
       "  tag_os tag_screen tag_condition     seller_name seller_hist  \n",
       "0    iOS   5.55\"-6\"           Б/у          Василь  2017-05-01  \n",
       "1    iOS  5.1\"-5.5\"           Б/у            Ігор  2017-03-01  \n",
       "2    iOS    4.5\"-5\"           Б/в       Анастасія  2014-06-01  \n",
       "3    iOS         4\"           Б/в       Анастасія  2015-09-01  \n",
       "4    iOS  5.1\"-5.5\"           Б/у  Ябко Тернопіль  2017-11-01  "
      ]
     },
     "metadata": {},
     "execution_count": 9
    }
   ],
   "metadata": {}
  },
  {
   "cell_type": "code",
   "execution_count": 7,
   "source": [
    "dfsql.shape"
   ],
   "outputs": [
    {
     "output_type": "execute_result",
     "data": {
      "text/plain": [
       "(3711, 13)"
      ]
     },
     "metadata": {},
     "execution_count": 7
    }
   ],
   "metadata": {}
  },
  {
   "cell_type": "code",
   "execution_count": 10,
   "source": [
    "dfsql.info()"
   ],
   "outputs": [
    {
     "output_type": "stream",
     "name": "stdout",
     "text": [
      "<class 'pandas.core.frame.DataFrame'>\n",
      "RangeIndex: 3711 entries, 0 to 3710\n",
      "Data columns (total 13 columns):\n",
      " #   Column            Non-Null Count  Dtype         \n",
      "---  ------            --------------  -----         \n",
      " 0   execution_date    3711 non-null   datetime64[ns]\n",
      " 1   offer_id          3711 non-null   object        \n",
      " 2   publication_date  3711 non-null   datetime64[ns]\n",
      " 3   name              3711 non-null   object        \n",
      " 4   price             3711 non-null   float64       \n",
      " 5   offer_info        3711 non-null   object        \n",
      " 6   tag_seller        3711 non-null   object        \n",
      " 7   tag_brand         3711 non-null   object        \n",
      " 8   tag_os            3711 non-null   object        \n",
      " 9   tag_screen        3711 non-null   object        \n",
      " 10  tag_condition     3711 non-null   object        \n",
      " 11  seller_name       3711 non-null   object        \n",
      " 12  seller_hist       3711 non-null   datetime64[ns]\n",
      "dtypes: datetime64[ns](3), float64(1), object(9)\n",
      "memory usage: 377.0+ KB\n"
     ]
    }
   ],
   "metadata": {}
  },
  {
   "cell_type": "code",
   "execution_count": 11,
   "source": [
    "dfsql.to_csv('2021-09-27-ETL.csv', sep='\\t', header=True, index=False)"
   ],
   "outputs": [],
   "metadata": {}
  }
 ],
 "metadata": {
  "orig_nbformat": 4,
  "language_info": {
   "name": "python",
   "version": "3.8.5",
   "mimetype": "text/x-python",
   "codemirror_mode": {
    "name": "ipython",
    "version": 3
   },
   "pygments_lexer": "ipython3",
   "nbconvert_exporter": "python",
   "file_extension": ".py"
  },
  "kernelspec": {
   "name": "python3",
   "display_name": "Python 3.8.5 64-bit ('web': conda)"
  },
  "interpreter": {
   "hash": "deeb641e96fcf8baf9892c2038d0041f2b4b0ed7c472b9896d80078beb92586b"
  }
 },
 "nbformat": 4,
 "nbformat_minor": 2
}