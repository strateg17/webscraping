{
 "cells": [
  {
   "cell_type": "code",
   "execution_count": 1,
   "id": "electronic-laugh",
   "metadata": {},
   "outputs": [],
   "source": [
    "import pandas as pd\n",
    "import numpy as np\n",
    "import seaborn as sns\n",
    "import matplotlib.pyplot as plt\n",
    "\n",
    "%matplotlib inline"
   ]
  },
  {
   "cell_type": "code",
   "execution_count": 2,
   "id": "varied-aviation",
   "metadata": {},
   "outputs": [],
   "source": [
    "# Increase default figure and font sizes for easier viewing.\n",
    "plt.style.use('seaborn-colorblind')\n",
    "sns.set_style('darkgrid')\n",
    "%matplotlib inline\n",
    "\n",
    "plt.rcParams['figure.figsize'] = (12, 6)\n",
    "plt.rcParams['font.size'] = 12"
   ]
  },
  {
   "cell_type": "code",
   "execution_count": 3,
   "id": "golden-colony",
   "metadata": {},
   "outputs": [],
   "source": [
    "data = pd.read_csv('2021-10-08-data_all_features.csv', sep='\\t', parse_dates=['execution_date','publication_date','seller_hist'])  "
   ]
  },
  {
   "cell_type": "code",
   "execution_count": 4,
   "id": "innocent-framing",
   "metadata": {},
   "outputs": [
    {
     "data": {
      "text/html": [
       "<div>\n",
       "<style scoped>\n",
       "    .dataframe tbody tr th:only-of-type {\n",
       "        vertical-align: middle;\n",
       "    }\n",
       "\n",
       "    .dataframe tbody tr th {\n",
       "        vertical-align: top;\n",
       "    }\n",
       "\n",
       "    .dataframe thead th {\n",
       "        text-align: right;\n",
       "    }\n",
       "</style>\n",
       "<table border=\"1\" class=\"dataframe\">\n",
       "  <thead>\n",
       "    <tr style=\"text-align: right;\">\n",
       "      <th></th>\n",
       "      <th>execution_date</th>\n",
       "      <th>offer_id</th>\n",
       "      <th>publication_date</th>\n",
       "      <th>name</th>\n",
       "      <th>price</th>\n",
       "      <th>offer_info</th>\n",
       "      <th>tag_seller</th>\n",
       "      <th>tag_condition</th>\n",
       "      <th>seller_name</th>\n",
       "      <th>seller_hist</th>\n",
       "      <th>...</th>\n",
       "      <th>7_plus</th>\n",
       "      <th>chargin_adapter</th>\n",
       "      <th>wire</th>\n",
       "      <th>box</th>\n",
       "      <th>case</th>\n",
       "      <th>glass</th>\n",
       "      <th>earphones</th>\n",
       "      <th>discount</th>\n",
       "      <th>time_exec_pub</th>\n",
       "      <th>time_seller_reg</th>\n",
       "    </tr>\n",
       "  </thead>\n",
       "  <tbody>\n",
       "    <tr>\n",
       "      <th>0</th>\n",
       "      <td>2021-09-25</td>\n",
       "      <td>463356322</td>\n",
       "      <td>2021-09-23</td>\n",
       "      <td>БУ iPhone 7 Plus 32/128/256Gb Black/Rose/Gold/...</td>\n",
       "      <td>5899.00</td>\n",
       "      <td>Продається Вживаний iPhone 7 Plus  Увага! Є в ...</td>\n",
       "      <td>1</td>\n",
       "      <td>0</td>\n",
       "      <td>Василь</td>\n",
       "      <td>2017-05-01</td>\n",
       "      <td>...</td>\n",
       "      <td>1</td>\n",
       "      <td>0</td>\n",
       "      <td>0</td>\n",
       "      <td>0</td>\n",
       "      <td>0</td>\n",
       "      <td>0</td>\n",
       "      <td>0</td>\n",
       "      <td>0</td>\n",
       "      <td>2.0</td>\n",
       "      <td>1608.0</td>\n",
       "    </tr>\n",
       "    <tr>\n",
       "      <th>1</th>\n",
       "      <td>2021-09-25</td>\n",
       "      <td>465428834</td>\n",
       "      <td>2021-09-23</td>\n",
       "      <td>Apple iPhone 7 Plus 32/128 black rose gold Гар...</td>\n",
       "      <td>5594.86</td>\n",
       "      <td>iPhone 7 Plus  (32 128 gb)Комплектація - серти...</td>\n",
       "      <td>1</td>\n",
       "      <td>0</td>\n",
       "      <td>Ігор</td>\n",
       "      <td>2017-03-01</td>\n",
       "      <td>...</td>\n",
       "      <td>1</td>\n",
       "      <td>0</td>\n",
       "      <td>1</td>\n",
       "      <td>0</td>\n",
       "      <td>0</td>\n",
       "      <td>0</td>\n",
       "      <td>0</td>\n",
       "      <td>0</td>\n",
       "      <td>2.0</td>\n",
       "      <td>1669.0</td>\n",
       "    </tr>\n",
       "  </tbody>\n",
       "</table>\n",
       "<p>2 rows × 30 columns</p>\n",
       "</div>"
      ],
      "text/plain": [
       "  execution_date   offer_id publication_date  \\\n",
       "0     2021-09-25  463356322       2021-09-23   \n",
       "1     2021-09-25  465428834       2021-09-23   \n",
       "\n",
       "                                                name    price  \\\n",
       "0  БУ iPhone 7 Plus 32/128/256Gb Black/Rose/Gold/...  5899.00   \n",
       "1  Apple iPhone 7 Plus 32/128 black rose gold Гар...  5594.86   \n",
       "\n",
       "                                          offer_info  tag_seller  \\\n",
       "0  Продається Вживаний iPhone 7 Plus  Увага! Є в ...           1   \n",
       "1  iPhone 7 Plus  (32 128 gb)Комплектація - серти...           1   \n",
       "\n",
       "   tag_condition seller_name seller_hist  ...  7_plus  chargin_adapter  wire  \\\n",
       "0              0      Василь  2017-05-01  ...       1                0     0   \n",
       "1              0        Ігор  2017-03-01  ...       1                0     1   \n",
       "\n",
       "   box  case  glass  earphones  discount  time_exec_pub  time_seller_reg  \n",
       "0    0     0      0          0         0            2.0           1608.0  \n",
       "1    0     0      0          0         0            2.0           1669.0  \n",
       "\n",
       "[2 rows x 30 columns]"
      ]
     },
     "execution_count": 4,
     "metadata": {},
     "output_type": "execute_result"
    }
   ],
   "source": [
    "data.head(2)"
   ]
  },
  {
   "cell_type": "code",
   "execution_count": 5,
   "id": "thermal-trust",
   "metadata": {},
   "outputs": [
    {
     "name": "stdout",
     "output_type": "stream",
     "text": [
      "<class 'pandas.core.frame.DataFrame'>\n",
      "RangeIndex: 31362 entries, 0 to 31361\n",
      "Data columns (total 30 columns):\n",
      " #   Column            Non-Null Count  Dtype         \n",
      "---  ------            --------------  -----         \n",
      " 0   execution_date    31362 non-null  datetime64[ns]\n",
      " 1   offer_id          31362 non-null  int64         \n",
      " 2   publication_date  31362 non-null  datetime64[ns]\n",
      " 3   name              31362 non-null  object        \n",
      " 4   price             31362 non-null  float64       \n",
      " 5   offer_info        31362 non-null  object        \n",
      " 6   tag_seller        31362 non-null  int64         \n",
      " 7   tag_condition     31362 non-null  int64         \n",
      " 8   seller_name       31362 non-null  object        \n",
      " 9   seller_hist       31362 non-null  datetime64[ns]\n",
      " 10  storage_gb        31362 non-null  int64         \n",
      " 11  neverlock         31362 non-null  int64         \n",
      " 12  loan              31362 non-null  int64         \n",
      " 13  installment_loan  31362 non-null  int64         \n",
      " 14  guarantee         31362 non-null  int64         \n",
      " 15  color_black       31362 non-null  int64         \n",
      " 16  color_rose        31362 non-null  int64         \n",
      " 17  color_gold        31362 non-null  int64         \n",
      " 18  color_silver      31362 non-null  int64         \n",
      " 19  color_red         31362 non-null  int64         \n",
      " 20  7_plus            31362 non-null  int64         \n",
      " 21  chargin_adapter   31362 non-null  int64         \n",
      " 22  wire              31362 non-null  int64         \n",
      " 23  box               31362 non-null  int64         \n",
      " 24  case              31362 non-null  int64         \n",
      " 25  glass             31362 non-null  int64         \n",
      " 26  earphones         31362 non-null  int64         \n",
      " 27  discount          31362 non-null  int64         \n",
      " 28  time_exec_pub     31362 non-null  float64       \n",
      " 29  time_seller_reg   31362 non-null  float64       \n",
      "dtypes: datetime64[ns](3), float64(3), int64(21), object(3)\n",
      "memory usage: 7.2+ MB\n"
     ]
    }
   ],
   "source": [
    "data.info()"
   ]
  },
  {
   "cell_type": "code",
   "execution_count": 6,
   "id": "mobile-harassment",
   "metadata": {},
   "outputs": [
    {
     "data": {
      "text/html": [
       "<div>\n",
       "<style scoped>\n",
       "    .dataframe tbody tr th:only-of-type {\n",
       "        vertical-align: middle;\n",
       "    }\n",
       "\n",
       "    .dataframe tbody tr th {\n",
       "        vertical-align: top;\n",
       "    }\n",
       "\n",
       "    .dataframe thead th {\n",
       "        text-align: right;\n",
       "    }\n",
       "</style>\n",
       "<table border=\"1\" class=\"dataframe\">\n",
       "  <thead>\n",
       "    <tr style=\"text-align: right;\">\n",
       "      <th></th>\n",
       "      <th>execution_date</th>\n",
       "      <th>offer_id</th>\n",
       "      <th>publication_date</th>\n",
       "      <th>name</th>\n",
       "      <th>price</th>\n",
       "      <th>offer_info</th>\n",
       "      <th>tag_seller</th>\n",
       "      <th>tag_condition</th>\n",
       "      <th>seller_name</th>\n",
       "      <th>seller_hist</th>\n",
       "      <th>...</th>\n",
       "      <th>7_plus</th>\n",
       "      <th>chargin_adapter</th>\n",
       "      <th>wire</th>\n",
       "      <th>box</th>\n",
       "      <th>case</th>\n",
       "      <th>glass</th>\n",
       "      <th>earphones</th>\n",
       "      <th>discount</th>\n",
       "      <th>time_exec_pub</th>\n",
       "      <th>time_seller_reg</th>\n",
       "    </tr>\n",
       "  </thead>\n",
       "  <tbody>\n",
       "    <tr>\n",
       "      <th>0</th>\n",
       "      <td>2021-09-25</td>\n",
       "      <td>463356322</td>\n",
       "      <td>2021-09-23</td>\n",
       "      <td>БУ iPhone 7 Plus 32/128/256Gb Black/Rose/Gold/...</td>\n",
       "      <td>5899.00</td>\n",
       "      <td>Продається Вживаний iPhone 7 Plus  Увага! Є в ...</td>\n",
       "      <td>1</td>\n",
       "      <td>0</td>\n",
       "      <td>Василь</td>\n",
       "      <td>2017-05-01</td>\n",
       "      <td>...</td>\n",
       "      <td>1</td>\n",
       "      <td>0</td>\n",
       "      <td>0</td>\n",
       "      <td>0</td>\n",
       "      <td>0</td>\n",
       "      <td>0</td>\n",
       "      <td>0</td>\n",
       "      <td>0</td>\n",
       "      <td>2.0</td>\n",
       "      <td>1608.0</td>\n",
       "    </tr>\n",
       "    <tr>\n",
       "      <th>1</th>\n",
       "      <td>2021-09-25</td>\n",
       "      <td>465428834</td>\n",
       "      <td>2021-09-23</td>\n",
       "      <td>Apple iPhone 7 Plus 32/128 black rose gold Гар...</td>\n",
       "      <td>5594.86</td>\n",
       "      <td>iPhone 7 Plus  (32 128 gb)Комплектація - серти...</td>\n",
       "      <td>1</td>\n",
       "      <td>0</td>\n",
       "      <td>Ігор</td>\n",
       "      <td>2017-03-01</td>\n",
       "      <td>...</td>\n",
       "      <td>1</td>\n",
       "      <td>0</td>\n",
       "      <td>1</td>\n",
       "      <td>0</td>\n",
       "      <td>0</td>\n",
       "      <td>0</td>\n",
       "      <td>0</td>\n",
       "      <td>0</td>\n",
       "      <td>2.0</td>\n",
       "      <td>1669.0</td>\n",
       "    </tr>\n",
       "  </tbody>\n",
       "</table>\n",
       "<p>2 rows × 30 columns</p>\n",
       "</div>"
      ],
      "text/plain": [
       "  execution_date   offer_id publication_date  \\\n",
       "0     2021-09-25  463356322       2021-09-23   \n",
       "1     2021-09-25  465428834       2021-09-23   \n",
       "\n",
       "                                                name    price  \\\n",
       "0  БУ iPhone 7 Plus 32/128/256Gb Black/Rose/Gold/...  5899.00   \n",
       "1  Apple iPhone 7 Plus 32/128 black rose gold Гар...  5594.86   \n",
       "\n",
       "                                          offer_info  tag_seller  \\\n",
       "0  Продається Вживаний iPhone 7 Plus  Увага! Є в ...           1   \n",
       "1  iPhone 7 Plus  (32 128 gb)Комплектація - серти...           1   \n",
       "\n",
       "   tag_condition seller_name seller_hist  ...  7_plus  chargin_adapter  wire  \\\n",
       "0              0      Василь  2017-05-01  ...       1                0     0   \n",
       "1              0        Ігор  2017-03-01  ...       1                0     1   \n",
       "\n",
       "   box  case  glass  earphones  discount  time_exec_pub  time_seller_reg  \n",
       "0    0     0      0          0         0            2.0           1608.0  \n",
       "1    0     0      0          0         0            2.0           1669.0  \n",
       "\n",
       "[2 rows x 30 columns]"
      ]
     },
     "execution_count": 6,
     "metadata": {},
     "output_type": "execute_result"
    }
   ],
   "source": [
    "data.head(2)"
   ]
  },
  {
   "cell_type": "code",
   "execution_count": 7,
   "id": "banner-gospel",
   "metadata": {},
   "outputs": [],
   "source": [
    "def anomalies_report(outliers):\n",
    "    print(\"Total number of outliers: {}\\nPercentage of outliers:   {:.2f}%\".format(\n",
    "            sum(outliers), 100*sum(outliers)/len(outliers)))  "
   ]
  },
  {
   "cell_type": "code",
   "execution_count": 8,
   "id": "earlier-manual",
   "metadata": {},
   "outputs": [],
   "source": [
    "def mad_outlier(y, thresh=3.):\n",
    "    '''\n",
    "    compute outliers based on mad\n",
    "    # args\n",
    "        y: assumed to be array with shape (N,1)\n",
    "        thresh: float()\n",
    "    # returns\n",
    "        array index of outliers\n",
    "    '''\n",
    "    median = np.median(y)\n",
    "    diff = np.sum((y - median)**2, axis=-1)\n",
    "    diff = np.sqrt(diff)\n",
    "    med_abs_deviation = np.median(diff)\n",
    "\n",
    "    modified_z_score = 0.6745 * diff / med_abs_deviation\n",
    "\n",
    "    return modified_z_score > thresh"
   ]
  },
  {
   "cell_type": "code",
   "execution_count": 9,
   "id": "responsible-teacher",
   "metadata": {},
   "outputs": [],
   "source": [
    "mad = mad_outlier(data.price.values.reshape(-1,1))"
   ]
  },
  {
   "cell_type": "code",
   "execution_count": 10,
   "id": "actual-doctor",
   "metadata": {},
   "outputs": [
    {
     "name": "stdout",
     "output_type": "stream",
     "text": [
      "Total number of outliers: 873\n",
      "Percentage of outliers:   2.78%\n"
     ]
    }
   ],
   "source": [
    "anomalies_report(mad)"
   ]
  },
  {
   "cell_type": "code",
   "execution_count": 11,
   "id": "downtown-sector",
   "metadata": {},
   "outputs": [],
   "source": [
    "data = data[~mad]"
   ]
  },
  {
   "cell_type": "code",
   "execution_count": 12,
   "id": "unsigned-measure",
   "metadata": {},
   "outputs": [],
   "source": [
    "data = data[data.price > 500]"
   ]
  },
  {
   "cell_type": "code",
   "execution_count": 13,
   "id": "dependent-still",
   "metadata": {},
   "outputs": [
    {
     "data": {
      "text/plain": [
       "(30405, 30)"
      ]
     },
     "execution_count": 13,
     "metadata": {},
     "output_type": "execute_result"
    }
   ],
   "source": [
    "data.shape"
   ]
  },
  {
   "cell_type": "code",
   "execution_count": 14,
   "id": "anticipated-split",
   "metadata": {},
   "outputs": [],
   "source": [
    "data['price_mean'] = data.groupby(['7_plus','tag_seller','tag_condition','storage_gb'])['price'].transform('mean')"
   ]
  },
  {
   "cell_type": "code",
   "execution_count": 15,
   "id": "saved-grove",
   "metadata": {},
   "outputs": [],
   "source": [
    "data['price_std'] = data.groupby(['7_plus','tag_seller','tag_condition','storage_gb'])['price'].transform('std')"
   ]
  },
  {
   "cell_type": "code",
   "execution_count": 16,
   "id": "conventional-audience",
   "metadata": {},
   "outputs": [],
   "source": [
    "df_price_mean_dist = data.groupby(['7_plus','tag_seller','tag_condition','storage_gb'])['price'].agg('mean')"
   ]
  },
  {
   "cell_type": "code",
   "execution_count": 17,
   "id": "perfect-title",
   "metadata": {},
   "outputs": [],
   "source": [
    "df_price_std_dist = data.groupby(['7_plus','tag_seller','tag_condition','storage_gb'])['price'].agg('std')"
   ]
  },
  {
   "cell_type": "code",
   "execution_count": 18,
   "id": "attempted-coordinate",
   "metadata": {},
   "outputs": [
    {
     "data": {
      "text/plain": [
       "7_plus  tag_seller  tag_condition  storage_gb\n",
       "0       0           0              0             3823.803684\n",
       "                                   16            2125.218182\n",
       "                                   32            3722.023857\n",
       "                                   64            5550.000000\n",
       "                                   128           4251.816078\n",
       "                                   256           4653.063934\n",
       "                    1              0             4197.600000\n",
       "                                   32            5335.430556\n",
       "                                   128           5052.603774\n",
       "                                   256           5500.000000\n",
       "        1           0              0             2863.748535\n",
       "                                   16            2033.641221\n",
       "                                   32            3788.472070\n",
       "                                   64            5092.600000\n",
       "                                   128           4603.338593\n",
       "                                   256           5185.069388\n",
       "                    1              0             5891.071429\n",
       "                                   16            3621.448980\n",
       "                                   32            5113.460905\n",
       "                                   128           5499.000000\n",
       "1       0           0              0             5554.466105\n",
       "                                   16            3672.800000\n",
       "                                   32            5171.485298\n",
       "                                   64            5661.904762\n",
       "                                   128           5970.795039\n",
       "                                   256           6265.476286\n",
       "                    1              0             7010.333333\n",
       "                                   32            6633.258043\n",
       "                                   128           5842.307692\n",
       "                                   256           7600.000000\n",
       "        1           0              0             4903.859155\n",
       "                                   16            2498.581197\n",
       "                                   32            5548.657146\n",
       "                                   64            6395.785714\n",
       "                                   128           6202.499860\n",
       "                                   256           7072.682990\n",
       "                    1              0             6364.705882\n",
       "                                   16            3032.333333\n",
       "                                   32            6215.822222\n",
       "                                   256           8707.825000\n",
       "Name: price, dtype: float64"
      ]
     },
     "execution_count": 18,
     "metadata": {},
     "output_type": "execute_result"
    }
   ],
   "source": [
    "df_price_mean_dist"
   ]
  },
  {
   "cell_type": "code",
   "execution_count": 19,
   "id": "prescription-stroke",
   "metadata": {},
   "outputs": [
    {
     "data": {
      "text/plain": [
       "4653.063934426229"
      ]
     },
     "execution_count": 19,
     "metadata": {},
     "output_type": "execute_result"
    }
   ],
   "source": [
    "# Retrive necessary mean from calculated values\n",
    "df_price_mean_dist.loc[0][0][0][256]"
   ]
  },
  {
   "cell_type": "code",
   "execution_count": 20,
   "id": "bridal-valve",
   "metadata": {},
   "outputs": [
    {
     "name": "stdout",
     "output_type": "stream",
     "text": [
      "<class 'pandas.core.frame.DataFrame'>\n",
      "Int64Index: 30405 entries, 0 to 31361\n",
      "Data columns (total 32 columns):\n",
      " #   Column            Non-Null Count  Dtype         \n",
      "---  ------            --------------  -----         \n",
      " 0   execution_date    30405 non-null  datetime64[ns]\n",
      " 1   offer_id          30405 non-null  int64         \n",
      " 2   publication_date  30405 non-null  datetime64[ns]\n",
      " 3   name              30405 non-null  object        \n",
      " 4   price             30405 non-null  float64       \n",
      " 5   offer_info        30405 non-null  object        \n",
      " 6   tag_seller        30405 non-null  int64         \n",
      " 7   tag_condition     30405 non-null  int64         \n",
      " 8   seller_name       30405 non-null  object        \n",
      " 9   seller_hist       30405 non-null  datetime64[ns]\n",
      " 10  storage_gb        30405 non-null  int64         \n",
      " 11  neverlock         30405 non-null  int64         \n",
      " 12  loan              30405 non-null  int64         \n",
      " 13  installment_loan  30405 non-null  int64         \n",
      " 14  guarantee         30405 non-null  int64         \n",
      " 15  color_black       30405 non-null  int64         \n",
      " 16  color_rose        30405 non-null  int64         \n",
      " 17  color_gold        30405 non-null  int64         \n",
      " 18  color_silver      30405 non-null  int64         \n",
      " 19  color_red         30405 non-null  int64         \n",
      " 20  7_plus            30405 non-null  int64         \n",
      " 21  chargin_adapter   30405 non-null  int64         \n",
      " 22  wire              30405 non-null  int64         \n",
      " 23  box               30405 non-null  int64         \n",
      " 24  case              30405 non-null  int64         \n",
      " 25  glass             30405 non-null  int64         \n",
      " 26  earphones         30405 non-null  int64         \n",
      " 27  discount          30405 non-null  int64         \n",
      " 28  time_exec_pub     30405 non-null  float64       \n",
      " 29  time_seller_reg   30405 non-null  float64       \n",
      " 30  price_mean        30405 non-null  float64       \n",
      " 31  price_std         30405 non-null  float64       \n",
      "dtypes: datetime64[ns](3), float64(5), int64(21), object(3)\n",
      "memory usage: 8.7+ MB\n"
     ]
    }
   ],
   "source": [
    "data.info()"
   ]
  },
  {
   "cell_type": "code",
   "execution_count": 21,
   "id": "ignored-tradition",
   "metadata": {},
   "outputs": [
    {
     "data": {
      "text/html": [
       "<div>\n",
       "<style scoped>\n",
       "    .dataframe tbody tr th:only-of-type {\n",
       "        vertical-align: middle;\n",
       "    }\n",
       "\n",
       "    .dataframe tbody tr th {\n",
       "        vertical-align: top;\n",
       "    }\n",
       "\n",
       "    .dataframe thead th {\n",
       "        text-align: right;\n",
       "    }\n",
       "</style>\n",
       "<table border=\"1\" class=\"dataframe\">\n",
       "  <thead>\n",
       "    <tr style=\"text-align: right;\">\n",
       "      <th></th>\n",
       "      <th>execution_date</th>\n",
       "      <th>offer_id</th>\n",
       "      <th>publication_date</th>\n",
       "      <th>name</th>\n",
       "      <th>price</th>\n",
       "      <th>offer_info</th>\n",
       "      <th>tag_seller</th>\n",
       "      <th>tag_condition</th>\n",
       "      <th>seller_name</th>\n",
       "      <th>seller_hist</th>\n",
       "      <th>...</th>\n",
       "      <th>wire</th>\n",
       "      <th>box</th>\n",
       "      <th>case</th>\n",
       "      <th>glass</th>\n",
       "      <th>earphones</th>\n",
       "      <th>discount</th>\n",
       "      <th>time_exec_pub</th>\n",
       "      <th>time_seller_reg</th>\n",
       "      <th>price_mean</th>\n",
       "      <th>price_std</th>\n",
       "    </tr>\n",
       "  </thead>\n",
       "  <tbody>\n",
       "    <tr>\n",
       "      <th>0</th>\n",
       "      <td>2021-09-25</td>\n",
       "      <td>463356322</td>\n",
       "      <td>2021-09-23</td>\n",
       "      <td>БУ iPhone 7 Plus 32/128/256Gb Black/Rose/Gold/...</td>\n",
       "      <td>5899.00</td>\n",
       "      <td>Продається Вживаний iPhone 7 Plus  Увага! Є в ...</td>\n",
       "      <td>1</td>\n",
       "      <td>0</td>\n",
       "      <td>Василь</td>\n",
       "      <td>2017-05-01</td>\n",
       "      <td>...</td>\n",
       "      <td>0</td>\n",
       "      <td>0</td>\n",
       "      <td>0</td>\n",
       "      <td>0</td>\n",
       "      <td>0</td>\n",
       "      <td>0</td>\n",
       "      <td>2.0</td>\n",
       "      <td>1608.0</td>\n",
       "      <td>5548.657146</td>\n",
       "      <td>1058.289932</td>\n",
       "    </tr>\n",
       "    <tr>\n",
       "      <th>1</th>\n",
       "      <td>2021-09-25</td>\n",
       "      <td>465428834</td>\n",
       "      <td>2021-09-23</td>\n",
       "      <td>Apple iPhone 7 Plus 32/128 black rose gold Гар...</td>\n",
       "      <td>5594.86</td>\n",
       "      <td>iPhone 7 Plus  (32 128 gb)Комплектація - серти...</td>\n",
       "      <td>1</td>\n",
       "      <td>0</td>\n",
       "      <td>Ігор</td>\n",
       "      <td>2017-03-01</td>\n",
       "      <td>...</td>\n",
       "      <td>1</td>\n",
       "      <td>0</td>\n",
       "      <td>0</td>\n",
       "      <td>0</td>\n",
       "      <td>0</td>\n",
       "      <td>0</td>\n",
       "      <td>2.0</td>\n",
       "      <td>1669.0</td>\n",
       "      <td>5548.657146</td>\n",
       "      <td>1058.289932</td>\n",
       "    </tr>\n",
       "  </tbody>\n",
       "</table>\n",
       "<p>2 rows × 32 columns</p>\n",
       "</div>"
      ],
      "text/plain": [
       "  execution_date   offer_id publication_date  \\\n",
       "0     2021-09-25  463356322       2021-09-23   \n",
       "1     2021-09-25  465428834       2021-09-23   \n",
       "\n",
       "                                                name    price  \\\n",
       "0  БУ iPhone 7 Plus 32/128/256Gb Black/Rose/Gold/...  5899.00   \n",
       "1  Apple iPhone 7 Plus 32/128 black rose gold Гар...  5594.86   \n",
       "\n",
       "                                          offer_info  tag_seller  \\\n",
       "0  Продається Вживаний iPhone 7 Plus  Увага! Є в ...           1   \n",
       "1  iPhone 7 Plus  (32 128 gb)Комплектація - серти...           1   \n",
       "\n",
       "   tag_condition seller_name seller_hist  ...  wire  box  case  glass  \\\n",
       "0              0      Василь  2017-05-01  ...     0    0     0      0   \n",
       "1              0        Ігор  2017-03-01  ...     1    0     0      0   \n",
       "\n",
       "   earphones  discount  time_exec_pub  time_seller_reg   price_mean  \\\n",
       "0          0         0            2.0           1608.0  5548.657146   \n",
       "1          0         0            2.0           1669.0  5548.657146   \n",
       "\n",
       "     price_std  \n",
       "0  1058.289932  \n",
       "1  1058.289932  \n",
       "\n",
       "[2 rows x 32 columns]"
      ]
     },
     "execution_count": 21,
     "metadata": {},
     "output_type": "execute_result"
    }
   ],
   "source": [
    "data.head(2)"
   ]
  },
  {
   "cell_type": "code",
   "execution_count": 22,
   "id": "bizarre-plaza",
   "metadata": {},
   "outputs": [],
   "source": [
    "data_droped = data.drop(['execution_date','offer_id','publication_date','name','offer_info','seller_name','seller_hist','loan','installment_loan','guarantee','discount','time_seller_reg'], axis=1, inplace=False)"
   ]
  },
  {
   "cell_type": "code",
   "execution_count": 23,
   "id": "portuguese-activation",
   "metadata": {},
   "outputs": [
    {
     "data": {
      "text/html": [
       "<div>\n",
       "<style scoped>\n",
       "    .dataframe tbody tr th:only-of-type {\n",
       "        vertical-align: middle;\n",
       "    }\n",
       "\n",
       "    .dataframe tbody tr th {\n",
       "        vertical-align: top;\n",
       "    }\n",
       "\n",
       "    .dataframe thead th {\n",
       "        text-align: right;\n",
       "    }\n",
       "</style>\n",
       "<table border=\"1\" class=\"dataframe\">\n",
       "  <thead>\n",
       "    <tr style=\"text-align: right;\">\n",
       "      <th></th>\n",
       "      <th>price</th>\n",
       "      <th>tag_seller</th>\n",
       "      <th>tag_condition</th>\n",
       "      <th>storage_gb</th>\n",
       "      <th>neverlock</th>\n",
       "      <th>color_black</th>\n",
       "      <th>color_rose</th>\n",
       "      <th>color_gold</th>\n",
       "      <th>color_silver</th>\n",
       "      <th>color_red</th>\n",
       "      <th>7_plus</th>\n",
       "      <th>chargin_adapter</th>\n",
       "      <th>wire</th>\n",
       "      <th>box</th>\n",
       "      <th>case</th>\n",
       "      <th>glass</th>\n",
       "      <th>earphones</th>\n",
       "      <th>time_exec_pub</th>\n",
       "      <th>price_mean</th>\n",
       "      <th>price_std</th>\n",
       "    </tr>\n",
       "  </thead>\n",
       "  <tbody>\n",
       "    <tr>\n",
       "      <th>0</th>\n",
       "      <td>5899.00</td>\n",
       "      <td>1</td>\n",
       "      <td>0</td>\n",
       "      <td>32</td>\n",
       "      <td>0</td>\n",
       "      <td>1</td>\n",
       "      <td>1</td>\n",
       "      <td>1</td>\n",
       "      <td>1</td>\n",
       "      <td>0</td>\n",
       "      <td>1</td>\n",
       "      <td>0</td>\n",
       "      <td>0</td>\n",
       "      <td>0</td>\n",
       "      <td>0</td>\n",
       "      <td>0</td>\n",
       "      <td>0</td>\n",
       "      <td>2.0</td>\n",
       "      <td>5548.657146</td>\n",
       "      <td>1058.289932</td>\n",
       "    </tr>\n",
       "    <tr>\n",
       "      <th>1</th>\n",
       "      <td>5594.86</td>\n",
       "      <td>1</td>\n",
       "      <td>0</td>\n",
       "      <td>32</td>\n",
       "      <td>0</td>\n",
       "      <td>1</td>\n",
       "      <td>1</td>\n",
       "      <td>1</td>\n",
       "      <td>0</td>\n",
       "      <td>0</td>\n",
       "      <td>1</td>\n",
       "      <td>0</td>\n",
       "      <td>1</td>\n",
       "      <td>0</td>\n",
       "      <td>0</td>\n",
       "      <td>0</td>\n",
       "      <td>0</td>\n",
       "      <td>2.0</td>\n",
       "      <td>5548.657146</td>\n",
       "      <td>1058.289932</td>\n",
       "    </tr>\n",
       "    <tr>\n",
       "      <th>2</th>\n",
       "      <td>6290.00</td>\n",
       "      <td>1</td>\n",
       "      <td>0</td>\n",
       "      <td>32</td>\n",
       "      <td>0</td>\n",
       "      <td>1</td>\n",
       "      <td>1</td>\n",
       "      <td>1</td>\n",
       "      <td>0</td>\n",
       "      <td>0</td>\n",
       "      <td>1</td>\n",
       "      <td>0</td>\n",
       "      <td>0</td>\n",
       "      <td>0</td>\n",
       "      <td>0</td>\n",
       "      <td>0</td>\n",
       "      <td>0</td>\n",
       "      <td>17.0</td>\n",
       "      <td>5548.657146</td>\n",
       "      <td>1058.289932</td>\n",
       "    </tr>\n",
       "    <tr>\n",
       "      <th>3</th>\n",
       "      <td>6190.00</td>\n",
       "      <td>1</td>\n",
       "      <td>0</td>\n",
       "      <td>32</td>\n",
       "      <td>0</td>\n",
       "      <td>0</td>\n",
       "      <td>1</td>\n",
       "      <td>0</td>\n",
       "      <td>1</td>\n",
       "      <td>0</td>\n",
       "      <td>1</td>\n",
       "      <td>0</td>\n",
       "      <td>0</td>\n",
       "      <td>0</td>\n",
       "      <td>0</td>\n",
       "      <td>0</td>\n",
       "      <td>0</td>\n",
       "      <td>17.0</td>\n",
       "      <td>5548.657146</td>\n",
       "      <td>1058.289932</td>\n",
       "    </tr>\n",
       "    <tr>\n",
       "      <th>4</th>\n",
       "      <td>6367.49</td>\n",
       "      <td>1</td>\n",
       "      <td>0</td>\n",
       "      <td>32</td>\n",
       "      <td>0</td>\n",
       "      <td>0</td>\n",
       "      <td>0</td>\n",
       "      <td>0</td>\n",
       "      <td>0</td>\n",
       "      <td>0</td>\n",
       "      <td>1</td>\n",
       "      <td>0</td>\n",
       "      <td>1</td>\n",
       "      <td>0</td>\n",
       "      <td>0</td>\n",
       "      <td>0</td>\n",
       "      <td>0</td>\n",
       "      <td>0.0</td>\n",
       "      <td>5548.657146</td>\n",
       "      <td>1058.289932</td>\n",
       "    </tr>\n",
       "    <tr>\n",
       "      <th>...</th>\n",
       "      <td>...</td>\n",
       "      <td>...</td>\n",
       "      <td>...</td>\n",
       "      <td>...</td>\n",
       "      <td>...</td>\n",
       "      <td>...</td>\n",
       "      <td>...</td>\n",
       "      <td>...</td>\n",
       "      <td>...</td>\n",
       "      <td>...</td>\n",
       "      <td>...</td>\n",
       "      <td>...</td>\n",
       "      <td>...</td>\n",
       "      <td>...</td>\n",
       "      <td>...</td>\n",
       "      <td>...</td>\n",
       "      <td>...</td>\n",
       "      <td>...</td>\n",
       "      <td>...</td>\n",
       "      <td>...</td>\n",
       "    </tr>\n",
       "    <tr>\n",
       "      <th>31357</th>\n",
       "      <td>5000.00</td>\n",
       "      <td>0</td>\n",
       "      <td>0</td>\n",
       "      <td>32</td>\n",
       "      <td>1</td>\n",
       "      <td>0</td>\n",
       "      <td>0</td>\n",
       "      <td>0</td>\n",
       "      <td>0</td>\n",
       "      <td>0</td>\n",
       "      <td>1</td>\n",
       "      <td>1</td>\n",
       "      <td>0</td>\n",
       "      <td>1</td>\n",
       "      <td>0</td>\n",
       "      <td>0</td>\n",
       "      <td>1</td>\n",
       "      <td>1.0</td>\n",
       "      <td>5171.485298</td>\n",
       "      <td>974.803051</td>\n",
       "    </tr>\n",
       "    <tr>\n",
       "      <th>31358</th>\n",
       "      <td>4000.00</td>\n",
       "      <td>0</td>\n",
       "      <td>0</td>\n",
       "      <td>128</td>\n",
       "      <td>1</td>\n",
       "      <td>1</td>\n",
       "      <td>0</td>\n",
       "      <td>0</td>\n",
       "      <td>0</td>\n",
       "      <td>0</td>\n",
       "      <td>0</td>\n",
       "      <td>0</td>\n",
       "      <td>0</td>\n",
       "      <td>0</td>\n",
       "      <td>1</td>\n",
       "      <td>0</td>\n",
       "      <td>0</td>\n",
       "      <td>1.0</td>\n",
       "      <td>4251.816078</td>\n",
       "      <td>1131.907445</td>\n",
       "    </tr>\n",
       "    <tr>\n",
       "      <th>31359</th>\n",
       "      <td>5500.00</td>\n",
       "      <td>0</td>\n",
       "      <td>0</td>\n",
       "      <td>128</td>\n",
       "      <td>0</td>\n",
       "      <td>0</td>\n",
       "      <td>0</td>\n",
       "      <td>0</td>\n",
       "      <td>0</td>\n",
       "      <td>0</td>\n",
       "      <td>1</td>\n",
       "      <td>0</td>\n",
       "      <td>0</td>\n",
       "      <td>1</td>\n",
       "      <td>0</td>\n",
       "      <td>0</td>\n",
       "      <td>0</td>\n",
       "      <td>1.0</td>\n",
       "      <td>5970.795039</td>\n",
       "      <td>1199.400438</td>\n",
       "    </tr>\n",
       "    <tr>\n",
       "      <th>31360</th>\n",
       "      <td>4100.00</td>\n",
       "      <td>0</td>\n",
       "      <td>0</td>\n",
       "      <td>32</td>\n",
       "      <td>0</td>\n",
       "      <td>0</td>\n",
       "      <td>0</td>\n",
       "      <td>0</td>\n",
       "      <td>0</td>\n",
       "      <td>0</td>\n",
       "      <td>1</td>\n",
       "      <td>0</td>\n",
       "      <td>1</td>\n",
       "      <td>0</td>\n",
       "      <td>0</td>\n",
       "      <td>0</td>\n",
       "      <td>0</td>\n",
       "      <td>1.0</td>\n",
       "      <td>5171.485298</td>\n",
       "      <td>974.803051</td>\n",
       "    </tr>\n",
       "    <tr>\n",
       "      <th>31361</th>\n",
       "      <td>2500.00</td>\n",
       "      <td>0</td>\n",
       "      <td>0</td>\n",
       "      <td>32</td>\n",
       "      <td>0</td>\n",
       "      <td>0</td>\n",
       "      <td>0</td>\n",
       "      <td>0</td>\n",
       "      <td>0</td>\n",
       "      <td>0</td>\n",
       "      <td>0</td>\n",
       "      <td>0</td>\n",
       "      <td>0</td>\n",
       "      <td>1</td>\n",
       "      <td>0</td>\n",
       "      <td>0</td>\n",
       "      <td>0</td>\n",
       "      <td>1.0</td>\n",
       "      <td>3722.023857</td>\n",
       "      <td>856.919479</td>\n",
       "    </tr>\n",
       "  </tbody>\n",
       "</table>\n",
       "<p>30405 rows × 20 columns</p>\n",
       "</div>"
      ],
      "text/plain": [
       "         price  tag_seller  tag_condition  storage_gb  neverlock  color_black  \\\n",
       "0      5899.00           1              0          32          0            1   \n",
       "1      5594.86           1              0          32          0            1   \n",
       "2      6290.00           1              0          32          0            1   \n",
       "3      6190.00           1              0          32          0            0   \n",
       "4      6367.49           1              0          32          0            0   \n",
       "...        ...         ...            ...         ...        ...          ...   \n",
       "31357  5000.00           0              0          32          1            0   \n",
       "31358  4000.00           0              0         128          1            1   \n",
       "31359  5500.00           0              0         128          0            0   \n",
       "31360  4100.00           0              0          32          0            0   \n",
       "31361  2500.00           0              0          32          0            0   \n",
       "\n",
       "       color_rose  color_gold  color_silver  color_red  7_plus  \\\n",
       "0               1           1             1          0       1   \n",
       "1               1           1             0          0       1   \n",
       "2               1           1             0          0       1   \n",
       "3               1           0             1          0       1   \n",
       "4               0           0             0          0       1   \n",
       "...           ...         ...           ...        ...     ...   \n",
       "31357           0           0             0          0       1   \n",
       "31358           0           0             0          0       0   \n",
       "31359           0           0             0          0       1   \n",
       "31360           0           0             0          0       1   \n",
       "31361           0           0             0          0       0   \n",
       "\n",
       "       chargin_adapter  wire  box  case  glass  earphones  time_exec_pub  \\\n",
       "0                    0     0    0     0      0          0            2.0   \n",
       "1                    0     1    0     0      0          0            2.0   \n",
       "2                    0     0    0     0      0          0           17.0   \n",
       "3                    0     0    0     0      0          0           17.0   \n",
       "4                    0     1    0     0      0          0            0.0   \n",
       "...                ...   ...  ...   ...    ...        ...            ...   \n",
       "31357                1     0    1     0      0          1            1.0   \n",
       "31358                0     0    0     1      0          0            1.0   \n",
       "31359                0     0    1     0      0          0            1.0   \n",
       "31360                0     1    0     0      0          0            1.0   \n",
       "31361                0     0    1     0      0          0            1.0   \n",
       "\n",
       "        price_mean    price_std  \n",
       "0      5548.657146  1058.289932  \n",
       "1      5548.657146  1058.289932  \n",
       "2      5548.657146  1058.289932  \n",
       "3      5548.657146  1058.289932  \n",
       "4      5548.657146  1058.289932  \n",
       "...            ...          ...  \n",
       "31357  5171.485298   974.803051  \n",
       "31358  4251.816078  1131.907445  \n",
       "31359  5970.795039  1199.400438  \n",
       "31360  5171.485298   974.803051  \n",
       "31361  3722.023857   856.919479  \n",
       "\n",
       "[30405 rows x 20 columns]"
      ]
     },
     "execution_count": 23,
     "metadata": {},
     "output_type": "execute_result"
    }
   ],
   "source": [
    "data_droped"
   ]
  },
  {
   "cell_type": "code",
   "execution_count": 24,
   "id": "canadian-segment",
   "metadata": {},
   "outputs": [],
   "source": [
    "from sklearn.model_selection import train_test_split"
   ]
  },
  {
   "cell_type": "code",
   "execution_count": 25,
   "id": "general-store",
   "metadata": {},
   "outputs": [],
   "source": [
    "X = data_droped.drop(['price'], axis=1)\n",
    "Y = data_droped.price"
   ]
  },
  {
   "cell_type": "code",
   "execution_count": null,
   "id": "sustainable-carry",
   "metadata": {},
   "outputs": [],
   "source": []
  },
  {
   "cell_type": "code",
   "execution_count": null,
   "id": "gorgeous-saskatchewan",
   "metadata": {},
   "outputs": [],
   "source": []
  },
  {
   "cell_type": "code",
   "execution_count": null,
   "id": "solved-numbers",
   "metadata": {},
   "outputs": [],
   "source": []
  },
  {
   "cell_type": "code",
   "execution_count": null,
   "id": "ultimate-timber",
   "metadata": {},
   "outputs": [],
   "source": []
  },
  {
   "cell_type": "markdown",
   "id": "tamil-swing",
   "metadata": {},
   "source": [
    "## **Outliers filtering**"
   ]
  },
  {
   "cell_type": "markdown",
   "id": "successful-klein",
   "metadata": {},
   "source": [
    "### *3 $sigma$*"
   ]
  },
  {
   "cell_type": "code",
   "execution_count": 28,
   "id": "prerequisite-marshall",
   "metadata": {},
   "outputs": [],
   "source": [
    "def anomalies_report(outliers):\n",
    "    print(\"Total number of outliers: {}\\nPercentage of outliers:   {:.2f}%\".format(\n",
    "            sum(outliers), 100*sum(outliers)/len(outliers)))  "
   ]
  },
  {
   "cell_type": "code",
   "execution_count": 29,
   "id": "focused-tobago",
   "metadata": {},
   "outputs": [],
   "source": [
    "def mad_outlier(y, thresh=3.):\n",
    "    '''\n",
    "    compute outliers based on mad\n",
    "    # args\n",
    "        y: assumed to be array with shape (N,1)\n",
    "        thresh: float()\n",
    "    # returns\n",
    "        array index of outliers\n",
    "    '''\n",
    "    median = np.median(y)\n",
    "    diff = np.sum((y - median)**2, axis=-1)\n",
    "    diff = np.sqrt(diff)\n",
    "    med_abs_deviation = np.median(diff)\n",
    "\n",
    "    modified_z_score = 0.6745 * diff / med_abs_deviation\n",
    "\n",
    "    return modified_z_score > thresh"
   ]
  },
  {
   "cell_type": "code",
   "execution_count": 30,
   "id": "square-trade",
   "metadata": {},
   "outputs": [],
   "source": [
    "mad = mad_outlier(data.price.values.reshape(-1,1))"
   ]
  },
  {
   "cell_type": "code",
   "execution_count": 31,
   "id": "median-canberra",
   "metadata": {},
   "outputs": [
    {
     "name": "stdout",
     "output_type": "stream",
     "text": [
      "Total number of outliers: 0\n",
      "Percentage of outliers:   0.00%\n"
     ]
    }
   ],
   "source": [
    "anomalies_report(mad)"
   ]
  },
  {
   "cell_type": "markdown",
   "id": "electronic-parliament",
   "metadata": {},
   "source": [
    "### *DBSCAN*"
   ]
  },
  {
   "cell_type": "code",
   "execution_count": 32,
   "id": "arbitrary-suffering",
   "metadata": {},
   "outputs": [],
   "source": [
    "from sklearn.preprocessing import RobustScaler"
   ]
  },
  {
   "cell_type": "code",
   "execution_count": 33,
   "id": "verified-scheme",
   "metadata": {},
   "outputs": [],
   "source": [
    "data_features = X\n",
    "labeled_data = data_features.copy()"
   ]
  },
  {
   "cell_type": "code",
   "execution_count": 34,
   "id": "protecting-workstation",
   "metadata": {},
   "outputs": [],
   "source": [
    "scaler = RobustScaler()\n",
    "\n",
    "scaled_data = pd.DataFrame(\n",
    "    data=scaler.fit_transform(data_features), \n",
    "    columns=data_features.columns\n",
    ")"
   ]
  },
  {
   "cell_type": "code",
   "execution_count": 35,
   "id": "removed-bacon",
   "metadata": {},
   "outputs": [],
   "source": [
    "from sklearn.cluster import DBSCAN\n",
    "\n",
    "# для начала считаем все наблюдения аномальными\n",
    "outlier_percentage = 1.\n",
    "\n",
    "num_clusters = []\n",
    "anomaly_percentage = []\n",
    "\n",
    "# берем маленький эпсилон и начинаем увеличивать\n",
    "eps = 0.05\n",
    "eps_history = [eps]\n",
    "while outlier_percentage>0.1:    \n",
    "    model = DBSCAN(eps=eps).fit(scaled_data)\n",
    "    labels = model.labels_\n",
    "    num_clusters.append(len(np.unique(labels))-1)\n",
    "    labels = np.array([1 if label == -1 else 0 for label in labels])\n",
    "    # считаем текущий процент \"шума\"\n",
    "    outlier_percentage = sum(labels==1) / len(labels)    \n",
    "    eps += 0.05\n",
    "    eps_history.append(eps)\n",
    "    anomaly_percentage.append(outlier_percentage)\n",
    "    \n",
    "model = DBSCAN(eps)\n",
    "model.fit(scaled_data)\n",
    "density_outlier = np.array([1 if label == -1 else 0 for label in model.labels_])"
   ]
  },
  {
   "cell_type": "code",
   "execution_count": 36,
   "id": "exterior-contemporary",
   "metadata": {},
   "outputs": [
    {
     "name": "stdout",
     "output_type": "stream",
     "text": [
      "Total number of outliers: 918\n",
      "Percentage of outliers:   3.02%\n"
     ]
    }
   ],
   "source": [
    "anomalies_report(density_outlier)"
   ]
  },
  {
   "cell_type": "markdown",
   "id": "mysterious-trading",
   "metadata": {},
   "source": [
    "### *SVM*"
   ]
  },
  {
   "cell_type": "code",
   "execution_count": 37,
   "id": "dominican-envelope",
   "metadata": {},
   "outputs": [],
   "source": [
    "from sklearn.svm import OneClassSVM\n",
    "\n",
    "one_class_svm = OneClassSVM(nu=0.03, gamma='auto')\n",
    "one_class_svm.fit(scaled_data)\n",
    "svm_outliers = one_class_svm.predict(scaled_data)\n",
    "svm_outliers = np.array([1 if label == -1 else 0 for label in svm_outliers])"
   ]
  },
  {
   "cell_type": "code",
   "execution_count": 38,
   "id": "parliamentary-swing",
   "metadata": {},
   "outputs": [
    {
     "name": "stdout",
     "output_type": "stream",
     "text": [
      "Total number of outliers: 944\n",
      "Percentage of outliers:   3.10%\n"
     ]
    }
   ],
   "source": [
    "anomalies_report(svm_outliers)"
   ]
  },
  {
   "cell_type": "markdown",
   "id": "proprietary-characteristic",
   "metadata": {},
   "source": [
    "### *Isolation forest*"
   ]
  },
  {
   "cell_type": "code",
   "execution_count": 39,
   "id": "double-control",
   "metadata": {},
   "outputs": [],
   "source": [
    "from sklearn.ensemble import IsolationForest\n",
    "\n",
    "isolation_forest = IsolationForest(n_estimators=100, contamination=0.03, \n",
    "                                   max_features=1.0, bootstrap=True)\n",
    "isolation_forest.fit(scaled_data)\n",
    "\n",
    "isolation_outliers = isolation_forest.predict(scaled_data)\n",
    "isolation_outliers = np.array([1 if label == -1 else 0 for label in isolation_outliers])"
   ]
  },
  {
   "cell_type": "code",
   "execution_count": 40,
   "id": "little-cursor",
   "metadata": {},
   "outputs": [
    {
     "name": "stdout",
     "output_type": "stream",
     "text": [
      "Total number of outliers: 913\n",
      "Percentage of outliers:   3.00%\n"
     ]
    }
   ],
   "source": [
    "anomalies_report(isolation_outliers)"
   ]
  },
  {
   "cell_type": "markdown",
   "id": "tight-salad",
   "metadata": {},
   "source": [
    "### *Combined*"
   ]
  },
  {
   "cell_type": "code",
   "execution_count": 41,
   "id": "major-transfer",
   "metadata": {},
   "outputs": [],
   "source": [
    "summary = np.concatenate((\n",
    "    [density_outlier],\n",
    "    [svm_outliers],\n",
    "    [isolation_outliers]\n",
    "))"
   ]
  },
  {
   "cell_type": "code",
   "execution_count": 42,
   "id": "noted-montana",
   "metadata": {},
   "outputs": [
    {
     "data": {
      "text/html": [
       "<div>\n",
       "<style scoped>\n",
       "    .dataframe tbody tr th:only-of-type {\n",
       "        vertical-align: middle;\n",
       "    }\n",
       "\n",
       "    .dataframe tbody tr th {\n",
       "        vertical-align: top;\n",
       "    }\n",
       "\n",
       "    .dataframe thead th {\n",
       "        text-align: right;\n",
       "    }\n",
       "</style>\n",
       "<table border=\"1\" class=\"dataframe\">\n",
       "  <thead>\n",
       "    <tr style=\"text-align: right;\">\n",
       "      <th></th>\n",
       "      <th>dbscan</th>\n",
       "      <th>svm</th>\n",
       "      <th>isolation</th>\n",
       "    </tr>\n",
       "  </thead>\n",
       "  <tbody>\n",
       "    <tr>\n",
       "      <th>0</th>\n",
       "      <td>0</td>\n",
       "      <td>0</td>\n",
       "      <td>0</td>\n",
       "    </tr>\n",
       "    <tr>\n",
       "      <th>1</th>\n",
       "      <td>0</td>\n",
       "      <td>0</td>\n",
       "      <td>0</td>\n",
       "    </tr>\n",
       "    <tr>\n",
       "      <th>2</th>\n",
       "      <td>0</td>\n",
       "      <td>1</td>\n",
       "      <td>0</td>\n",
       "    </tr>\n",
       "    <tr>\n",
       "      <th>3</th>\n",
       "      <td>0</td>\n",
       "      <td>1</td>\n",
       "      <td>0</td>\n",
       "    </tr>\n",
       "    <tr>\n",
       "      <th>4</th>\n",
       "      <td>0</td>\n",
       "      <td>0</td>\n",
       "      <td>0</td>\n",
       "    </tr>\n",
       "  </tbody>\n",
       "</table>\n",
       "</div>"
      ],
      "text/plain": [
       "   dbscan  svm  isolation\n",
       "0       0    0          0\n",
       "1       0    0          0\n",
       "2       0    1          0\n",
       "3       0    1          0\n",
       "4       0    0          0"
      ]
     },
     "execution_count": 42,
     "metadata": {},
     "output_type": "execute_result"
    }
   ],
   "source": [
    "summary = pd.DataFrame(\n",
    "    summary.T, \n",
    "    columns=['dbscan', 'svm', 'isolation']\n",
    ")\n",
    "summary.head()"
   ]
  },
  {
   "cell_type": "code",
   "execution_count": 43,
   "id": "incorporate-senator",
   "metadata": {},
   "outputs": [],
   "source": [
    "outlier_score = summary.mean(axis=1)\n",
    "simple_score = outlier_score.apply(lambda x: 0 if x < 0.4 else 0.5 if x < 0.8 else 1)\n",
    "labeled_data['outlier_score'] = simple_score"
   ]
  },
  {
   "cell_type": "code",
   "execution_count": 44,
   "id": "metric-chorus",
   "metadata": {},
   "outputs": [
    {
     "data": {
      "text/plain": [
       "0    28062\n",
       "1     1929\n",
       "2      396\n",
       "3       18\n",
       "dtype: int64"
      ]
     },
     "execution_count": 44,
     "metadata": {},
     "output_type": "execute_result"
    },
    {
     "data": {
      "image/png": "[encoded data removed]",
      "text/plain": [
       "<Figure size 864x432 with 1 Axes>"
      ]
     },
     "metadata": {
      "needs_background": "light"
     },
     "output_type": "display_data"
    }
   ],
   "source": [
    "outliers_score_model_based = summary[['dbscan', 'svm', 'isolation']].sum(axis=1)\n",
    "plt.hist(outliers_score_model_based, alpha=0.6);\n",
    "outliers_score_model_based.value_counts()"
   ]
  },
  {
   "cell_type": "code",
   "execution_count": 45,
   "id": "sustainable-wheel",
   "metadata": {},
   "outputs": [],
   "source": [
    "other_features = data_features.columns"
   ]
  },
  {
   "cell_type": "code",
   "execution_count": 46,
   "id": "affiliated-tongue",
   "metadata": {},
   "outputs": [],
   "source": [
    "clean_index = labeled_data[labeled_data.outlier_score.isin([0])].index"
   ]
  },
  {
   "cell_type": "code",
   "execution_count": 47,
   "id": "latest-female",
   "metadata": {},
   "outputs": [
    {
     "data": {
      "text/html": [
       "<div>\n",
       "<style scoped>\n",
       "    .dataframe tbody tr th:only-of-type {\n",
       "        vertical-align: middle;\n",
       "    }\n",
       "\n",
       "    .dataframe tbody tr th {\n",
       "        vertical-align: top;\n",
       "    }\n",
       "\n",
       "    .dataframe thead th {\n",
       "        text-align: right;\n",
       "    }\n",
       "</style>\n",
       "<table border=\"1\" class=\"dataframe\">\n",
       "  <thead>\n",
       "    <tr style=\"text-align: right;\">\n",
       "      <th></th>\n",
       "      <th>tag_seller</th>\n",
       "      <th>tag_condition</th>\n",
       "      <th>storage_gb</th>\n",
       "      <th>neverlock</th>\n",
       "      <th>color_black</th>\n",
       "      <th>color_rose</th>\n",
       "      <th>color_gold</th>\n",
       "      <th>color_silver</th>\n",
       "      <th>color_red</th>\n",
       "      <th>7_plus</th>\n",
       "      <th>chargin_adapter</th>\n",
       "      <th>wire</th>\n",
       "      <th>box</th>\n",
       "      <th>case</th>\n",
       "      <th>glass</th>\n",
       "      <th>earphones</th>\n",
       "      <th>time_exec_pub</th>\n",
       "      <th>price_mean</th>\n",
       "      <th>price_std</th>\n",
       "    </tr>\n",
       "  </thead>\n",
       "  <tbody>\n",
       "    <tr>\n",
       "      <th>0</th>\n",
       "      <td>1</td>\n",
       "      <td>0</td>\n",
       "      <td>32</td>\n",
       "      <td>0</td>\n",
       "      <td>1</td>\n",
       "      <td>1</td>\n",
       "      <td>1</td>\n",
       "      <td>1</td>\n",
       "      <td>0</td>\n",
       "      <td>1</td>\n",
       "      <td>0</td>\n",
       "      <td>0</td>\n",
       "      <td>0</td>\n",
       "      <td>0</td>\n",
       "      <td>0</td>\n",
       "      <td>0</td>\n",
       "      <td>2.0</td>\n",
       "      <td>5548.657146</td>\n",
       "      <td>1058.289932</td>\n",
       "    </tr>\n",
       "    <tr>\n",
       "      <th>1</th>\n",
       "      <td>1</td>\n",
       "      <td>0</td>\n",
       "      <td>32</td>\n",
       "      <td>0</td>\n",
       "      <td>1</td>\n",
       "      <td>1</td>\n",
       "      <td>1</td>\n",
       "      <td>0</td>\n",
       "      <td>0</td>\n",
       "      <td>1</td>\n",
       "      <td>0</td>\n",
       "      <td>1</td>\n",
       "      <td>0</td>\n",
       "      <td>0</td>\n",
       "      <td>0</td>\n",
       "      <td>0</td>\n",
       "      <td>2.0</td>\n",
       "      <td>5548.657146</td>\n",
       "      <td>1058.289932</td>\n",
       "    </tr>\n",
       "    <tr>\n",
       "      <th>2</th>\n",
       "      <td>1</td>\n",
       "      <td>0</td>\n",
       "      <td>32</td>\n",
       "      <td>0</td>\n",
       "      <td>1</td>\n",
       "      <td>1</td>\n",
       "      <td>1</td>\n",
       "      <td>0</td>\n",
       "      <td>0</td>\n",
       "      <td>1</td>\n",
       "      <td>0</td>\n",
       "      <td>0</td>\n",
       "      <td>0</td>\n",
       "      <td>0</td>\n",
       "      <td>0</td>\n",
       "      <td>0</td>\n",
       "      <td>17.0</td>\n",
       "      <td>5548.657146</td>\n",
       "      <td>1058.289932</td>\n",
       "    </tr>\n",
       "    <tr>\n",
       "      <th>3</th>\n",
       "      <td>1</td>\n",
       "      <td>0</td>\n",
       "      <td>32</td>\n",
       "      <td>0</td>\n",
       "      <td>0</td>\n",
       "      <td>1</td>\n",
       "      <td>0</td>\n",
       "      <td>1</td>\n",
       "      <td>0</td>\n",
       "      <td>1</td>\n",
       "      <td>0</td>\n",
       "      <td>0</td>\n",
       "      <td>0</td>\n",
       "      <td>0</td>\n",
       "      <td>0</td>\n",
       "      <td>0</td>\n",
       "      <td>17.0</td>\n",
       "      <td>5548.657146</td>\n",
       "      <td>1058.289932</td>\n",
       "    </tr>\n",
       "    <tr>\n",
       "      <th>4</th>\n",
       "      <td>1</td>\n",
       "      <td>0</td>\n",
       "      <td>32</td>\n",
       "      <td>0</td>\n",
       "      <td>0</td>\n",
       "      <td>0</td>\n",
       "      <td>0</td>\n",
       "      <td>0</td>\n",
       "      <td>0</td>\n",
       "      <td>1</td>\n",
       "      <td>0</td>\n",
       "      <td>1</td>\n",
       "      <td>0</td>\n",
       "      <td>0</td>\n",
       "      <td>0</td>\n",
       "      <td>0</td>\n",
       "      <td>0.0</td>\n",
       "      <td>5548.657146</td>\n",
       "      <td>1058.289932</td>\n",
       "    </tr>\n",
       "    <tr>\n",
       "      <th>...</th>\n",
       "      <td>...</td>\n",
       "      <td>...</td>\n",
       "      <td>...</td>\n",
       "      <td>...</td>\n",
       "      <td>...</td>\n",
       "      <td>...</td>\n",
       "      <td>...</td>\n",
       "      <td>...</td>\n",
       "      <td>...</td>\n",
       "      <td>...</td>\n",
       "      <td>...</td>\n",
       "      <td>...</td>\n",
       "      <td>...</td>\n",
       "      <td>...</td>\n",
       "      <td>...</td>\n",
       "      <td>...</td>\n",
       "      <td>...</td>\n",
       "      <td>...</td>\n",
       "      <td>...</td>\n",
       "    </tr>\n",
       "    <tr>\n",
       "      <th>31357</th>\n",
       "      <td>0</td>\n",
       "      <td>0</td>\n",
       "      <td>32</td>\n",
       "      <td>1</td>\n",
       "      <td>0</td>\n",
       "      <td>0</td>\n",
       "      <td>0</td>\n",
       "      <td>0</td>\n",
       "      <td>0</td>\n",
       "      <td>1</td>\n",
       "      <td>1</td>\n",
       "      <td>0</td>\n",
       "      <td>1</td>\n",
       "      <td>0</td>\n",
       "      <td>0</td>\n",
       "      <td>1</td>\n",
       "      <td>1.0</td>\n",
       "      <td>5171.485298</td>\n",
       "      <td>974.803051</td>\n",
       "    </tr>\n",
       "    <tr>\n",
       "      <th>31358</th>\n",
       "      <td>0</td>\n",
       "      <td>0</td>\n",
       "      <td>128</td>\n",
       "      <td>1</td>\n",
       "      <td>1</td>\n",
       "      <td>0</td>\n",
       "      <td>0</td>\n",
       "      <td>0</td>\n",
       "      <td>0</td>\n",
       "      <td>0</td>\n",
       "      <td>0</td>\n",
       "      <td>0</td>\n",
       "      <td>0</td>\n",
       "      <td>1</td>\n",
       "      <td>0</td>\n",
       "      <td>0</td>\n",
       "      <td>1.0</td>\n",
       "      <td>4251.816078</td>\n",
       "      <td>1131.907445</td>\n",
       "    </tr>\n",
       "    <tr>\n",
       "      <th>31359</th>\n",
       "      <td>0</td>\n",
       "      <td>0</td>\n",
       "      <td>128</td>\n",
       "      <td>0</td>\n",
       "      <td>0</td>\n",
       "      <td>0</td>\n",
       "      <td>0</td>\n",
       "      <td>0</td>\n",
       "      <td>0</td>\n",
       "      <td>1</td>\n",
       "      <td>0</td>\n",
       "      <td>0</td>\n",
       "      <td>1</td>\n",
       "      <td>0</td>\n",
       "      <td>0</td>\n",
       "      <td>0</td>\n",
       "      <td>1.0</td>\n",
       "      <td>5970.795039</td>\n",
       "      <td>1199.400438</td>\n",
       "    </tr>\n",
       "    <tr>\n",
       "      <th>31360</th>\n",
       "      <td>0</td>\n",
       "      <td>0</td>\n",
       "      <td>32</td>\n",
       "      <td>0</td>\n",
       "      <td>0</td>\n",
       "      <td>0</td>\n",
       "      <td>0</td>\n",
       "      <td>0</td>\n",
       "      <td>0</td>\n",
       "      <td>1</td>\n",
       "      <td>0</td>\n",
       "      <td>1</td>\n",
       "      <td>0</td>\n",
       "      <td>0</td>\n",
       "      <td>0</td>\n",
       "      <td>0</td>\n",
       "      <td>1.0</td>\n",
       "      <td>5171.485298</td>\n",
       "      <td>974.803051</td>\n",
       "    </tr>\n",
       "    <tr>\n",
       "      <th>31361</th>\n",
       "      <td>0</td>\n",
       "      <td>0</td>\n",
       "      <td>32</td>\n",
       "      <td>0</td>\n",
       "      <td>0</td>\n",
       "      <td>0</td>\n",
       "      <td>0</td>\n",
       "      <td>0</td>\n",
       "      <td>0</td>\n",
       "      <td>0</td>\n",
       "      <td>0</td>\n",
       "      <td>0</td>\n",
       "      <td>1</td>\n",
       "      <td>0</td>\n",
       "      <td>0</td>\n",
       "      <td>0</td>\n",
       "      <td>1.0</td>\n",
       "      <td>3722.023857</td>\n",
       "      <td>856.919479</td>\n",
       "    </tr>\n",
       "  </tbody>\n",
       "</table>\n",
       "<p>29064 rows × 19 columns</p>\n",
       "</div>"
      ],
      "text/plain": [
       "       tag_seller  tag_condition  storage_gb  neverlock  color_black  \\\n",
       "0               1              0          32          0            1   \n",
       "1               1              0          32          0            1   \n",
       "2               1              0          32          0            1   \n",
       "3               1              0          32          0            0   \n",
       "4               1              0          32          0            0   \n",
       "...           ...            ...         ...        ...          ...   \n",
       "31357           0              0          32          1            0   \n",
       "31358           0              0         128          1            1   \n",
       "31359           0              0         128          0            0   \n",
       "31360           0              0          32          0            0   \n",
       "31361           0              0          32          0            0   \n",
       "\n",
       "       color_rose  color_gold  color_silver  color_red  7_plus  \\\n",
       "0               1           1             1          0       1   \n",
       "1               1           1             0          0       1   \n",
       "2               1           1             0          0       1   \n",
       "3               1           0             1          0       1   \n",
       "4               0           0             0          0       1   \n",
       "...           ...         ...           ...        ...     ...   \n",
       "31357           0           0             0          0       1   \n",
       "31358           0           0             0          0       0   \n",
       "31359           0           0             0          0       1   \n",
       "31360           0           0             0          0       1   \n",
       "31361           0           0             0          0       0   \n",
       "\n",
       "       chargin_adapter  wire  box  case  glass  earphones  time_exec_pub  \\\n",
       "0                    0     0    0     0      0          0            2.0   \n",
       "1                    0     1    0     0      0          0            2.0   \n",
       "2                    0     0    0     0      0          0           17.0   \n",
       "3                    0     0    0     0      0          0           17.0   \n",
       "4                    0     1    0     0      0          0            0.0   \n",
       "...                ...   ...  ...   ...    ...        ...            ...   \n",
       "31357                1     0    1     0      0          1            1.0   \n",
       "31358                0     0    0     1      0          0            1.0   \n",
       "31359                0     0    1     0      0          0            1.0   \n",
       "31360                0     1    0     0      0          0            1.0   \n",
       "31361                0     0    1     0      0          0            1.0   \n",
       "\n",
       "        price_mean    price_std  \n",
       "0      5548.657146  1058.289932  \n",
       "1      5548.657146  1058.289932  \n",
       "2      5548.657146  1058.289932  \n",
       "3      5548.657146  1058.289932  \n",
       "4      5548.657146  1058.289932  \n",
       "...            ...          ...  \n",
       "31357  5171.485298   974.803051  \n",
       "31358  4251.816078  1131.907445  \n",
       "31359  5970.795039  1199.400438  \n",
       "31360  5171.485298   974.803051  \n",
       "31361  3722.023857   856.919479  \n",
       "\n",
       "[29064 rows x 19 columns]"
      ]
     },
     "execution_count": 47,
     "metadata": {},
     "output_type": "execute_result"
    }
   ],
   "source": [
    "X.iloc[clean_index]"
   ]
  },
  {
   "cell_type": "code",
   "execution_count": 48,
   "id": "magnetic-unknown",
   "metadata": {},
   "outputs": [],
   "source": [
    "X_clean = X.iloc[clean_index]\n",
    "Y_clean = Y.iloc[clean_index]"
   ]
  },
  {
   "cell_type": "code",
   "execution_count": 49,
   "id": "spatial-quality",
   "metadata": {},
   "outputs": [],
   "source": [
    "from sklearn.model_selection import train_test_split"
   ]
  },
  {
   "cell_type": "code",
   "execution_count": 50,
   "id": "norwegian-leather",
   "metadata": {},
   "outputs": [],
   "source": [
    "# without this features model performs worst\n",
    "# X_clean.drop(['neverlock','chargin_adapter','wire','box','case','earphones','glass'], axis=1, inplace=True)"
   ]
  },
  {
   "cell_type": "code",
   "execution_count": 51,
   "id": "tribal-midnight",
   "metadata": {},
   "outputs": [
    {
     "data": {
      "text/html": [
       "<div>\n",
       "<style scoped>\n",
       "    .dataframe tbody tr th:only-of-type {\n",
       "        vertical-align: middle;\n",
       "    }\n",
       "\n",
       "    .dataframe tbody tr th {\n",
       "        vertical-align: top;\n",
       "    }\n",
       "\n",
       "    .dataframe thead th {\n",
       "        text-align: right;\n",
       "    }\n",
       "</style>\n",
       "<table border=\"1\" class=\"dataframe\">\n",
       "  <thead>\n",
       "    <tr style=\"text-align: right;\">\n",
       "      <th></th>\n",
       "      <th>tag_seller</th>\n",
       "      <th>tag_condition</th>\n",
       "      <th>storage_gb</th>\n",
       "      <th>neverlock</th>\n",
       "      <th>color_black</th>\n",
       "      <th>color_rose</th>\n",
       "      <th>color_gold</th>\n",
       "      <th>color_silver</th>\n",
       "      <th>color_red</th>\n",
       "      <th>7_plus</th>\n",
       "      <th>chargin_adapter</th>\n",
       "      <th>wire</th>\n",
       "      <th>box</th>\n",
       "      <th>case</th>\n",
       "      <th>glass</th>\n",
       "      <th>earphones</th>\n",
       "      <th>time_exec_pub</th>\n",
       "      <th>price_mean</th>\n",
       "      <th>price_std</th>\n",
       "    </tr>\n",
       "  </thead>\n",
       "  <tbody>\n",
       "    <tr>\n",
       "      <th>0</th>\n",
       "      <td>1</td>\n",
       "      <td>0</td>\n",
       "      <td>32</td>\n",
       "      <td>0</td>\n",
       "      <td>1</td>\n",
       "      <td>1</td>\n",
       "      <td>1</td>\n",
       "      <td>1</td>\n",
       "      <td>0</td>\n",
       "      <td>1</td>\n",
       "      <td>0</td>\n",
       "      <td>0</td>\n",
       "      <td>0</td>\n",
       "      <td>0</td>\n",
       "      <td>0</td>\n",
       "      <td>0</td>\n",
       "      <td>2.0</td>\n",
       "      <td>5548.657146</td>\n",
       "      <td>1058.289932</td>\n",
       "    </tr>\n",
       "    <tr>\n",
       "      <th>1</th>\n",
       "      <td>1</td>\n",
       "      <td>0</td>\n",
       "      <td>32</td>\n",
       "      <td>0</td>\n",
       "      <td>1</td>\n",
       "      <td>1</td>\n",
       "      <td>1</td>\n",
       "      <td>0</td>\n",
       "      <td>0</td>\n",
       "      <td>1</td>\n",
       "      <td>0</td>\n",
       "      <td>1</td>\n",
       "      <td>0</td>\n",
       "      <td>0</td>\n",
       "      <td>0</td>\n",
       "      <td>0</td>\n",
       "      <td>2.0</td>\n",
       "      <td>5548.657146</td>\n",
       "      <td>1058.289932</td>\n",
       "    </tr>\n",
       "    <tr>\n",
       "      <th>2</th>\n",
       "      <td>1</td>\n",
       "      <td>0</td>\n",
       "      <td>32</td>\n",
       "      <td>0</td>\n",
       "      <td>1</td>\n",
       "      <td>1</td>\n",
       "      <td>1</td>\n",
       "      <td>0</td>\n",
       "      <td>0</td>\n",
       "      <td>1</td>\n",
       "      <td>0</td>\n",
       "      <td>0</td>\n",
       "      <td>0</td>\n",
       "      <td>0</td>\n",
       "      <td>0</td>\n",
       "      <td>0</td>\n",
       "      <td>17.0</td>\n",
       "      <td>5548.657146</td>\n",
       "      <td>1058.289932</td>\n",
       "    </tr>\n",
       "    <tr>\n",
       "      <th>3</th>\n",
       "      <td>1</td>\n",
       "      <td>0</td>\n",
       "      <td>32</td>\n",
       "      <td>0</td>\n",
       "      <td>0</td>\n",
       "      <td>1</td>\n",
       "      <td>0</td>\n",
       "      <td>1</td>\n",
       "      <td>0</td>\n",
       "      <td>1</td>\n",
       "      <td>0</td>\n",
       "      <td>0</td>\n",
       "      <td>0</td>\n",
       "      <td>0</td>\n",
       "      <td>0</td>\n",
       "      <td>0</td>\n",
       "      <td>17.0</td>\n",
       "      <td>5548.657146</td>\n",
       "      <td>1058.289932</td>\n",
       "    </tr>\n",
       "    <tr>\n",
       "      <th>4</th>\n",
       "      <td>1</td>\n",
       "      <td>0</td>\n",
       "      <td>32</td>\n",
       "      <td>0</td>\n",
       "      <td>0</td>\n",
       "      <td>0</td>\n",
       "      <td>0</td>\n",
       "      <td>0</td>\n",
       "      <td>0</td>\n",
       "      <td>1</td>\n",
       "      <td>0</td>\n",
       "      <td>1</td>\n",
       "      <td>0</td>\n",
       "      <td>0</td>\n",
       "      <td>0</td>\n",
       "      <td>0</td>\n",
       "      <td>0.0</td>\n",
       "      <td>5548.657146</td>\n",
       "      <td>1058.289932</td>\n",
       "    </tr>\n",
       "    <tr>\n",
       "      <th>...</th>\n",
       "      <td>...</td>\n",
       "      <td>...</td>\n",
       "      <td>...</td>\n",
       "      <td>...</td>\n",
       "      <td>...</td>\n",
       "      <td>...</td>\n",
       "      <td>...</td>\n",
       "      <td>...</td>\n",
       "      <td>...</td>\n",
       "      <td>...</td>\n",
       "      <td>...</td>\n",
       "      <td>...</td>\n",
       "      <td>...</td>\n",
       "      <td>...</td>\n",
       "      <td>...</td>\n",
       "      <td>...</td>\n",
       "      <td>...</td>\n",
       "      <td>...</td>\n",
       "      <td>...</td>\n",
       "    </tr>\n",
       "    <tr>\n",
       "      <th>31357</th>\n",
       "      <td>0</td>\n",
       "      <td>0</td>\n",
       "      <td>32</td>\n",
       "      <td>1</td>\n",
       "      <td>0</td>\n",
       "      <td>0</td>\n",
       "      <td>0</td>\n",
       "      <td>0</td>\n",
       "      <td>0</td>\n",
       "      <td>1</td>\n",
       "      <td>1</td>\n",
       "      <td>0</td>\n",
       "      <td>1</td>\n",
       "      <td>0</td>\n",
       "      <td>0</td>\n",
       "      <td>1</td>\n",
       "      <td>1.0</td>\n",
       "      <td>5171.485298</td>\n",
       "      <td>974.803051</td>\n",
       "    </tr>\n",
       "    <tr>\n",
       "      <th>31358</th>\n",
       "      <td>0</td>\n",
       "      <td>0</td>\n",
       "      <td>128</td>\n",
       "      <td>1</td>\n",
       "      <td>1</td>\n",
       "      <td>0</td>\n",
       "      <td>0</td>\n",
       "      <td>0</td>\n",
       "      <td>0</td>\n",
       "      <td>0</td>\n",
       "      <td>0</td>\n",
       "      <td>0</td>\n",
       "      <td>0</td>\n",
       "      <td>1</td>\n",
       "      <td>0</td>\n",
       "      <td>0</td>\n",
       "      <td>1.0</td>\n",
       "      <td>4251.816078</td>\n",
       "      <td>1131.907445</td>\n",
       "    </tr>\n",
       "    <tr>\n",
       "      <th>31359</th>\n",
       "      <td>0</td>\n",
       "      <td>0</td>\n",
       "      <td>128</td>\n",
       "      <td>0</td>\n",
       "      <td>0</td>\n",
       "      <td>0</td>\n",
       "      <td>0</td>\n",
       "      <td>0</td>\n",
       "      <td>0</td>\n",
       "      <td>1</td>\n",
       "      <td>0</td>\n",
       "      <td>0</td>\n",
       "      <td>1</td>\n",
       "      <td>0</td>\n",
       "      <td>0</td>\n",
       "      <td>0</td>\n",
       "      <td>1.0</td>\n",
       "      <td>5970.795039</td>\n",
       "      <td>1199.400438</td>\n",
       "    </tr>\n",
       "    <tr>\n",
       "      <th>31360</th>\n",
       "      <td>0</td>\n",
       "      <td>0</td>\n",
       "      <td>32</td>\n",
       "      <td>0</td>\n",
       "      <td>0</td>\n",
       "      <td>0</td>\n",
       "      <td>0</td>\n",
       "      <td>0</td>\n",
       "      <td>0</td>\n",
       "      <td>1</td>\n",
       "      <td>0</td>\n",
       "      <td>1</td>\n",
       "      <td>0</td>\n",
       "      <td>0</td>\n",
       "      <td>0</td>\n",
       "      <td>0</td>\n",
       "      <td>1.0</td>\n",
       "      <td>5171.485298</td>\n",
       "      <td>974.803051</td>\n",
       "    </tr>\n",
       "    <tr>\n",
       "      <th>31361</th>\n",
       "      <td>0</td>\n",
       "      <td>0</td>\n",
       "      <td>32</td>\n",
       "      <td>0</td>\n",
       "      <td>0</td>\n",
       "      <td>0</td>\n",
       "      <td>0</td>\n",
       "      <td>0</td>\n",
       "      <td>0</td>\n",
       "      <td>0</td>\n",
       "      <td>0</td>\n",
       "      <td>0</td>\n",
       "      <td>1</td>\n",
       "      <td>0</td>\n",
       "      <td>0</td>\n",
       "      <td>0</td>\n",
       "      <td>1.0</td>\n",
       "      <td>3722.023857</td>\n",
       "      <td>856.919479</td>\n",
       "    </tr>\n",
       "  </tbody>\n",
       "</table>\n",
       "<p>29064 rows × 19 columns</p>\n",
       "</div>"
      ],
      "text/plain": [
       "       tag_seller  tag_condition  storage_gb  neverlock  color_black  \\\n",
       "0               1              0          32          0            1   \n",
       "1               1              0          32          0            1   \n",
       "2               1              0          32          0            1   \n",
       "3               1              0          32          0            0   \n",
       "4               1              0          32          0            0   \n",
       "...           ...            ...         ...        ...          ...   \n",
       "31357           0              0          32          1            0   \n",
       "31358           0              0         128          1            1   \n",
       "31359           0              0         128          0            0   \n",
       "31360           0              0          32          0            0   \n",
       "31361           0              0          32          0            0   \n",
       "\n",
       "       color_rose  color_gold  color_silver  color_red  7_plus  \\\n",
       "0               1           1             1          0       1   \n",
       "1               1           1             0          0       1   \n",
       "2               1           1             0          0       1   \n",
       "3               1           0             1          0       1   \n",
       "4               0           0             0          0       1   \n",
       "...           ...         ...           ...        ...     ...   \n",
       "31357           0           0             0          0       1   \n",
       "31358           0           0             0          0       0   \n",
       "31359           0           0             0          0       1   \n",
       "31360           0           0             0          0       1   \n",
       "31361           0           0             0          0       0   \n",
       "\n",
       "       chargin_adapter  wire  box  case  glass  earphones  time_exec_pub  \\\n",
       "0                    0     0    0     0      0          0            2.0   \n",
       "1                    0     1    0     0      0          0            2.0   \n",
       "2                    0     0    0     0      0          0           17.0   \n",
       "3                    0     0    0     0      0          0           17.0   \n",
       "4                    0     1    0     0      0          0            0.0   \n",
       "...                ...   ...  ...   ...    ...        ...            ...   \n",
       "31357                1     0    1     0      0          1            1.0   \n",
       "31358                0     0    0     1      0          0            1.0   \n",
       "31359                0     0    1     0      0          0            1.0   \n",
       "31360                0     1    0     0      0          0            1.0   \n",
       "31361                0     0    1     0      0          0            1.0   \n",
       "\n",
       "        price_mean    price_std  \n",
       "0      5548.657146  1058.289932  \n",
       "1      5548.657146  1058.289932  \n",
       "2      5548.657146  1058.289932  \n",
       "3      5548.657146  1058.289932  \n",
       "4      5548.657146  1058.289932  \n",
       "...            ...          ...  \n",
       "31357  5171.485298   974.803051  \n",
       "31358  4251.816078  1131.907445  \n",
       "31359  5970.795039  1199.400438  \n",
       "31360  5171.485298   974.803051  \n",
       "31361  3722.023857   856.919479  \n",
       "\n",
       "[29064 rows x 19 columns]"
      ]
     },
     "execution_count": 51,
     "metadata": {},
     "output_type": "execute_result"
    }
   ],
   "source": [
    "X_clean"
   ]
  },
  {
   "cell_type": "code",
   "execution_count": 52,
   "id": "vulnerable-theorem",
   "metadata": {},
   "outputs": [],
   "source": [
    "train_x, test_x, train_y, test_y = train_test_split(X_clean, Y_clean, test_size=0.2, random_state=42)"
   ]
  },
  {
   "cell_type": "code",
   "execution_count": null,
   "id": "arctic-brake",
   "metadata": {},
   "outputs": [],
   "source": []
  },
  {
   "cell_type": "markdown",
   "id": "spread-posting",
   "metadata": {},
   "source": [
    "### **Multiple models testing**"
   ]
  },
  {
   "cell_type": "code",
   "execution_count": 53,
   "id": "cloudy-translator",
   "metadata": {},
   "outputs": [],
   "source": [
    "# Let's import all necessary models\n",
    "import time\n",
    "import xgboost as xgb\n",
    "import lightgbm as lgb \n",
    "from sklearn.linear_model import LinearRegression\n",
    "from sklearn.linear_model import Lasso\n",
    "from sklearn.linear_model import Ridge\n",
    "from sklearn.linear_model import ElasticNet\n",
    "from sklearn.ensemble import RandomForestRegressor\n",
    "from sklearn.metrics import mean_squared_error\n",
    "from xgboost import XGBRegressor\n",
    "from lightgbm import LGBMRegressor\n",
    "from sklearn.metrics import mean_absolute_error"
   ]
  },
  {
   "cell_type": "code",
   "execution_count": 54,
   "id": "associate-sunrise",
   "metadata": {},
   "outputs": [],
   "source": [
    "def mae_compare(model):\n",
    "    model.fit(train_x, train_y)\n",
    "    y_pred = model.predict(test_x)\n",
    "    return mean_absolute_error(y_pred, test_y)"
   ]
  },
  {
   "cell_type": "code",
   "execution_count": 55,
   "id": "invalid-anderson",
   "metadata": {},
   "outputs": [
    {
     "name": "stdout",
     "output_type": "stream",
     "text": [
      "LinearRegression: \t749.8392019391716\n",
      "\n",
      "Ridge: \t749.8310596519016\n",
      "\n",
      "Lasso: \t748.7273290984016\n",
      "\n",
      "ElasticNet: \t752.4291437407929\n",
      "\n",
      "RandomForestRegressor: \t628.9105206505193\n",
      "\n",
      "XGBRegressor: \t632.6759739148783\n",
      "\n",
      "LGBMRegressor: \t673.6563925789246\n",
      "\n"
     ]
    },
    {
     "name": "stderr",
     "output_type": "stream",
     "text": [
      "/home/fantast/anaconda3/envs/coursera/lib/python3.9/site-packages/xgboost/data.py:112: UserWarning: Use subset (sliced data) of np.ndarray is not recommended because it will generate extra copies and increase memory consumption\n",
      "  warnings.warn(\n"
     ]
    }
   ],
   "source": [
    "models = [LinearRegression(), Ridge(), Lasso(), ElasticNet(), RandomForestRegressor(), XGBRegressor(), LGBMRegressor()]\n",
    "\n",
    "for model in models:\n",
    "    result = mae_compare(model)\n",
    "    print(f'{model.__class__.__name__}: \\t{result}\\n')"
   ]
  },
  {
   "cell_type": "code",
   "execution_count": null,
   "id": "committed-review",
   "metadata": {},
   "outputs": [],
   "source": []
  },
  {
   "cell_type": "code",
   "execution_count": null,
   "id": "toxic-gregory",
   "metadata": {},
   "outputs": [],
   "source": []
  },
  {
   "cell_type": "markdown",
   "id": "following-database",
   "metadata": {},
   "source": [
    "#### **Random Forest Regression**"
   ]
  },
  {
   "cell_type": "code",
   "execution_count": 56,
   "id": "monetary-messaging",
   "metadata": {},
   "outputs": [
    {
     "name": "stdout",
     "output_type": "stream",
     "text": [
      "Random Forest Regression \n",
      "\n",
      "Number of estimators: 2 \t MAE = 657.8240366113304 \t Time = 0.1057436466217041\n",
      "\n",
      "Number of estimators: 5 \t MAE = 637.8404769474816 \t Time = 0.19283080101013184\n",
      "\n",
      "Number of estimators: 10 \t MAE = 634.4303389025846 \t Time = 0.3644852638244629\n",
      "\n",
      "Number of estimators: 20 \t MAE = 633.9386879110037 \t Time = 0.7076888084411621\n",
      "\n",
      "Number of estimators: 50 \t MAE = 630.5233439391653 \t Time = 1.7277119159698486\n",
      "\n",
      "Number of estimators: 100 \t MAE = 629.0589193855473 \t Time = 3.0936083793640137\n",
      "\n",
      "Number of estimators: 200 \t MAE = 628.9023359929453 \t Time = 6.273806810379028\n",
      "\n",
      "Number of estimators: 300 \t MAE = 628.5293764289479 \t Time = 9.111283779144287\n",
      "\n",
      "Number of estimators: 500 \t MAE = 628.7395697829841 \t Time = 15.445281028747559\n",
      "\n"
     ]
    }
   ],
   "source": [
    "num_estimetor = [2, 5, 10, 20, 50, 100, 200, 300, 500]\n",
    "\n",
    "cv_random_forest = []\n",
    "cv_random_forest_time = []\n",
    "\n",
    "print('Random Forest Regression \\n')\n",
    "\n",
    "for n in num_estimetor:\n",
    "    time_start = time.time()\n",
    "    cv_temp = mae_compare(RandomForestRegressor(n_estimators=n))\n",
    "    cv_random_forest.append(cv_temp)\n",
    "    time_end = time.time()\n",
    "    time_res = time_end - time_start\n",
    "    cv_random_forest_time.append(time_res)\n",
    "    \n",
    "    print(f'Number of estimators: {n} \\t MAE = {cv_temp} \\t Time = {time_res}\\n')"
   ]
  },
  {
   "cell_type": "code",
   "execution_count": 57,
   "id": "realistic-vampire",
   "metadata": {},
   "outputs": [
    {
     "data": {
      "image/png": "[encoded data removed]",
      "text/plain": [
       "<Figure size 1512x576 with 2 Axes>"
      ]
     },
     "metadata": {
      "needs_background": "light"
     },
     "output_type": "display_data"
    }
   ],
   "source": [
    "cv_random_forest_df = pd.Series(cv_random_forest, index=num_estimetor)\n",
    "cv_random_forest_time_df = pd.Series(cv_random_forest_time, index=num_estimetor)\n",
    "\n",
    "fig, axes = plt.subplots(1, 2, figsize =(21,8))\n",
    "\n",
    "cv_random_forest_df.plot(ax=axes[0])\n",
    "axes[0].set_xlabel('Number of estimators', fontsize=18)\n",
    "axes[0].set_ylabel('MAE', fontsize=18)\n",
    "axes[0].set_title('RandomForest MAE', fontsize=20)\n",
    "\n",
    "cv_random_forest_time_df.plot(ax=axes[1])\n",
    "axes[1].set_xlabel('Number of estimators', fontsize=18)\n",
    "axes[1].set_ylabel('Time, sec', fontsize=18)\n",
    "axes[1].set_title('RandomForest training time', fontsize=20)\n",
    "\n",
    "plt.show()"
   ]
  },
  {
   "cell_type": "code",
   "execution_count": 58,
   "id": "interim-revolution",
   "metadata": {},
   "outputs": [],
   "source": [
    "base_rfr = RandomForestRegressor(n_estimators=300)"
   ]
  },
  {
   "cell_type": "code",
   "execution_count": 59,
   "id": "inner-tuition",
   "metadata": {},
   "outputs": [
    {
     "data": {
      "text/plain": [
       "RandomForestRegressor(n_estimators=300)"
      ]
     },
     "execution_count": 59,
     "metadata": {},
     "output_type": "execute_result"
    }
   ],
   "source": [
    "base_rfr.fit(train_x,train_y)"
   ]
  },
  {
   "cell_type": "code",
   "execution_count": 60,
   "id": "provincial-egyptian",
   "metadata": {},
   "outputs": [
    {
     "data": {
      "text/plain": [
       "525.3037749702663"
      ]
     },
     "execution_count": 60,
     "metadata": {},
     "output_type": "execute_result"
    }
   ],
   "source": [
    "mean_absolute_error(train_y, base_rfr.predict(train_x))"
   ]
  },
  {
   "cell_type": "code",
   "execution_count": 61,
   "id": "aggressive-professor",
   "metadata": {},
   "outputs": [
    {
     "data": {
      "text/plain": [
       "628.1864903154718"
      ]
     },
     "execution_count": 61,
     "metadata": {},
     "output_type": "execute_result"
    }
   ],
   "source": [
    "mean_absolute_error(test_y, base_rfr.predict(test_x))"
   ]
  },
  {
   "cell_type": "code",
   "execution_count": 62,
   "id": "dedicated-arena",
   "metadata": {},
   "outputs": [
    {
     "data": {
      "image/png": "[encoded data removed]",
      "text/plain": [
       "<Figure size 864x432 with 1 Axes>"
      ]
     },
     "metadata": {
      "needs_background": "light"
     },
     "output_type": "display_data"
    }
   ],
   "source": [
    "features = test_x.columns\n",
    "importances = base_rfr.feature_importances_\n",
    "indices = np.argsort(importances)\n",
    "\n",
    "plt.title('Feature Importances')\n",
    "plt.barh(range(len(indices)), importances[indices], color='b', align='center')\n",
    "plt.yticks(range(len(indices)), [features[i] for i in indices])\n",
    "plt.xlabel('Relative Importance')\n",
    "plt.show()"
   ]
  },
  {
   "cell_type": "code",
   "execution_count": null,
   "id": "fatal-while",
   "metadata": {},
   "outputs": [],
   "source": []
  },
  {
   "cell_type": "code",
   "execution_count": null,
   "id": "interstate-translation",
   "metadata": {},
   "outputs": [],
   "source": []
  },
  {
   "cell_type": "code",
   "execution_count": 63,
   "id": "harmful-minority",
   "metadata": {},
   "outputs": [],
   "source": [
    "import numpy as np\n",
    "\n",
    "EPSILON = 1e-10"
   ]
  },
  {
   "cell_type": "code",
   "execution_count": 64,
   "id": "naval-booth",
   "metadata": {},
   "outputs": [],
   "source": [
    "def mape(actual: np.ndarray, predicted: np.ndarray):\n",
    "    \"\"\"\n",
    "    Mean Arctangent Absolute Percentage Error\n",
    "    Note: result is NOT multiplied by 100\n",
    "    \"\"\"\n",
    "    return np.mean(np.mean(np.abs((actual - predicted) / (actual + EPSILON))))"
   ]
  },
  {
   "cell_type": "code",
   "execution_count": 65,
   "id": "referenced-benjamin",
   "metadata": {},
   "outputs": [],
   "source": [
    "def maape(actual: np.ndarray, predicted: np.ndarray):\n",
    "    \"\"\"\n",
    "    Mean Arctangent Absolute Percentage Error\n",
    "    Note: result is NOT multiplied by 100\n",
    "    \"\"\"\n",
    "    return np.mean(np.arctan(np.abs((actual - predicted) / (actual + EPSILON))))"
   ]
  },
  {
   "cell_type": "code",
   "execution_count": 66,
   "id": "existing-pharmacy",
   "metadata": {},
   "outputs": [],
   "source": [
    "mape_df = test_y.to_frame()"
   ]
  },
  {
   "cell_type": "markdown",
   "id": "lonely-roman",
   "metadata": {},
   "source": [
    "#### Random Forest Regression MAPE and MAAPE"
   ]
  },
  {
   "cell_type": "code",
   "execution_count": 67,
   "id": "solar-native",
   "metadata": {},
   "outputs": [],
   "source": [
    "pred_rfr = base_rfr.predict(test_x)"
   ]
  },
  {
   "cell_type": "code",
   "execution_count": 68,
   "id": "infrared-beverage",
   "metadata": {},
   "outputs": [],
   "source": [
    "mape_df['pred_price'] = pred_rfr"
   ]
  },
  {
   "cell_type": "code",
   "execution_count": 69,
   "id": "amended-myrtle",
   "metadata": {},
   "outputs": [],
   "source": [
    "mape_df = mape_df[mape_df.price > 0]"
   ]
  },
  {
   "cell_type": "code",
   "execution_count": 70,
   "id": "unauthorized-concern",
   "metadata": {},
   "outputs": [
    {
     "data": {
      "text/plain": [
       "0.1781881961359902"
      ]
     },
     "execution_count": 70,
     "metadata": {},
     "output_type": "execute_result"
    }
   ],
   "source": [
    "mape(mape_df.price, mape_df.pred_price)"
   ]
  },
  {
   "cell_type": "code",
   "execution_count": 71,
   "id": "reverse-sponsorship",
   "metadata": {},
   "outputs": [
    {
     "data": {
      "text/plain": [
       "0.1501961218062222"
      ]
     },
     "execution_count": 71,
     "metadata": {},
     "output_type": "execute_result"
    }
   ],
   "source": [
    "maape(mape_df.price, mape_df.pred_price)"
   ]
  },
  {
   "cell_type": "code",
   "execution_count": null,
   "id": "together-fantasy",
   "metadata": {},
   "outputs": [],
   "source": []
  },
  {
   "cell_type": "code",
   "execution_count": null,
   "id": "mobile-antigua",
   "metadata": {},
   "outputs": [],
   "source": []
  },
  {
   "cell_type": "markdown",
   "id": "built-geometry",
   "metadata": {},
   "source": [
    "#### **XGB Regression**"
   ]
  },
  {
   "cell_type": "code",
   "execution_count": 72,
   "id": "moderate-dress",
   "metadata": {},
   "outputs": [
    {
     "name": "stdout",
     "output_type": "stream",
     "text": [
      "XGB Regression \n",
      "\n",
      "Number of estimators: 2 \t MAE = 2283.0384023984325 \t Time = 0.05603218078613281\n",
      "\n",
      "Number of estimators: 5 \t MAE = 1033.6173484118974 \t Time = 0.09708690643310547\n",
      "\n"
     ]
    },
    {
     "name": "stderr",
     "output_type": "stream",
     "text": [
      "/home/fantast/anaconda3/envs/coursera/lib/python3.9/site-packages/xgboost/data.py:112: UserWarning: Use subset (sliced data) of np.ndarray is not recommended because it will generate extra copies and increase memory consumption\n",
      "  warnings.warn(\n",
      "/home/fantast/anaconda3/envs/coursera/lib/python3.9/site-packages/xgboost/data.py:112: UserWarning: Use subset (sliced data) of np.ndarray is not recommended because it will generate extra copies and increase memory consumption\n",
      "  warnings.warn(\n",
      "/home/fantast/anaconda3/envs/coursera/lib/python3.9/site-packages/xgboost/data.py:112: UserWarning: Use subset (sliced data) of np.ndarray is not recommended because it will generate extra copies and increase memory consumption\n",
      "  warnings.warn(\n",
      "/home/fantast/anaconda3/envs/coursera/lib/python3.9/site-packages/xgboost/data.py:112: UserWarning: Use subset (sliced data) of np.ndarray is not recommended because it will generate extra copies and increase memory consumption\n",
      "  warnings.warn(\n"
     ]
    },
    {
     "name": "stdout",
     "output_type": "stream",
     "text": [
      "Number of estimators: 10 \t MAE = 716.3166904602627 \t Time = 0.14589405059814453\n",
      "\n",
      "Number of estimators: 20 \t MAE = 681.1045036137684 \t Time = 0.13277745246887207\n",
      "\n"
     ]
    },
    {
     "name": "stderr",
     "output_type": "stream",
     "text": [
      "/home/fantast/anaconda3/envs/coursera/lib/python3.9/site-packages/xgboost/data.py:112: UserWarning: Use subset (sliced data) of np.ndarray is not recommended because it will generate extra copies and increase memory consumption\n",
      "  warnings.warn(\n"
     ]
    },
    {
     "name": "stdout",
     "output_type": "stream",
     "text": [
      "Number of estimators: 50 \t MAE = 649.3783688932505 \t Time = 0.4075336456298828\n",
      "\n"
     ]
    },
    {
     "name": "stderr",
     "output_type": "stream",
     "text": [
      "/home/fantast/anaconda3/envs/coursera/lib/python3.9/site-packages/xgboost/data.py:112: UserWarning: Use subset (sliced data) of np.ndarray is not recommended because it will generate extra copies and increase memory consumption\n",
      "  warnings.warn(\n"
     ]
    },
    {
     "name": "stdout",
     "output_type": "stream",
     "text": [
      "Number of estimators: 100 \t MAE = 632.6759739148783 \t Time = 0.6594417095184326\n",
      "\n"
     ]
    },
    {
     "name": "stderr",
     "output_type": "stream",
     "text": [
      "/home/fantast/anaconda3/envs/coursera/lib/python3.9/site-packages/xgboost/data.py:112: UserWarning: Use subset (sliced data) of np.ndarray is not recommended because it will generate extra copies and increase memory consumption\n",
      "  warnings.warn(\n"
     ]
    },
    {
     "name": "stdout",
     "output_type": "stream",
     "text": [
      "Number of estimators: 200 \t MAE = 618.5219071481922 \t Time = 1.3287863731384277\n",
      "\n",
      "Number of estimators: 300 \t MAE = 614.8546337516834 \t Time = 1.8705723285675049\n",
      "\n"
     ]
    },
    {
     "name": "stderr",
     "output_type": "stream",
     "text": [
      "/home/fantast/anaconda3/envs/coursera/lib/python3.9/site-packages/xgboost/data.py:112: UserWarning: Use subset (sliced data) of np.ndarray is not recommended because it will generate extra copies and increase memory consumption\n",
      "  warnings.warn(\n"
     ]
    }
   ],
   "source": [
    "num_estimetor = [2, 5, 10, 20, 50, 100, 200, 300]\n",
    "\n",
    "cv_xgbr = []\n",
    "cv_xgbr_time = []\n",
    "\n",
    "print('XGB Regression \\n')\n",
    "\n",
    "for n in num_estimetor:\n",
    "    time_start = time.time()\n",
    "    cv_temp = mae_compare(XGBRegressor(n_estimators=n))\n",
    "    cv_xgbr.append(cv_temp)\n",
    "    time_end = time.time()\n",
    "    time_res = time_end - time_start\n",
    "    cv_xgbr_time.append(time_res)\n",
    "    \n",
    "    print(f'Number of estimators: {n} \\t MAE = {cv_temp} \\t Time = {time_res}\\n')"
   ]
  },
  {
   "cell_type": "code",
   "execution_count": 74,
   "id": "floppy-procedure",
   "metadata": {},
   "outputs": [
    {
     "data": {
      "image/png": "[encoded data removed]",
      "text/plain": [
       "<Figure size 1512x576 with 2 Axes>"
      ]
     },
     "metadata": {
      "needs_background": "light"
     },
     "output_type": "display_data"
    }
   ],
   "source": [
    "cv_xgbr_df = pd.Series(cv_xgbr, index=num_estimetor)\n",
    "cv_xgbr_time_df = pd.Series(cv_xgbr_time, index=num_estimetor)\n",
    "\n",
    "fig, axes = plt.subplots(1, 2, figsize =(21,8))\n",
    "\n",
    "cv_xgbr_df.plot(ax=axes[0])\n",
    "axes[0].set_xlabel('Number of estimators', fontsize=18)\n",
    "axes[0].set_ylabel('MAE', fontsize=18)\n",
    "axes[0].set_title('XGBRegressor MAE', fontsize=20)\n",
    "\n",
    "cv_xgbr_time_df.plot(ax=axes[1])\n",
    "axes[1].set_xlabel('Number of estimators', fontsize=18)\n",
    "axes[1].set_ylabel('Time, sec', fontsize=18)\n",
    "axes[1].set_title('XGBRgressor time', fontsize=20)\n",
    "\n",
    "plt.show()"
   ]
  },
  {
   "cell_type": "code",
   "execution_count": 75,
   "id": "fourth-header",
   "metadata": {},
   "outputs": [],
   "source": [
    "base_xgb = XGBRegressor(n_estimators=300)"
   ]
  },
  {
   "cell_type": "code",
   "execution_count": 76,
   "id": "competent-mother",
   "metadata": {},
   "outputs": [
    {
     "data": {
      "text/plain": [
       "XGBRegressor(base_score=0.5, booster='gbtree', colsample_bylevel=1,\n",
       "             colsample_bynode=1, colsample_bytree=1, gamma=0, gpu_id=-1,\n",
       "             importance_type='gain', interaction_constraints='',\n",
       "             learning_rate=0.300000012, max_delta_step=0, max_depth=6,\n",
       "             min_child_weight=1, missing=nan, monotone_constraints='()',\n",
       "             n_estimators=300, n_jobs=8, num_parallel_tree=1, random_state=0,\n",
       "             reg_alpha=0, reg_lambda=1, scale_pos_weight=1, subsample=1,\n",
       "             tree_method='exact', validate_parameters=1, verbosity=None)"
      ]
     },
     "execution_count": 76,
     "metadata": {},
     "output_type": "execute_result"
    }
   ],
   "source": [
    "base_xgb.fit(train_x,train_y)"
   ]
  },
  {
   "cell_type": "code",
   "execution_count": 77,
   "id": "warming-mapping",
   "metadata": {},
   "outputs": [
    {
     "name": "stderr",
     "output_type": "stream",
     "text": [
      "/home/fantast/anaconda3/envs/coursera/lib/python3.9/site-packages/xgboost/data.py:112: UserWarning: Use subset (sliced data) of np.ndarray is not recommended because it will generate extra copies and increase memory consumption\n",
      "  warnings.warn(\n"
     ]
    },
    {
     "data": {
      "text/plain": [
       "570.4329443196622"
      ]
     },
     "execution_count": 77,
     "metadata": {},
     "output_type": "execute_result"
    }
   ],
   "source": [
    "mean_absolute_error(train_y, base_xgb.predict(train_x))"
   ]
  },
  {
   "cell_type": "code",
   "execution_count": 78,
   "id": "planned-shakespeare",
   "metadata": {},
   "outputs": [
    {
     "name": "stderr",
     "output_type": "stream",
     "text": [
      "/home/fantast/anaconda3/envs/coursera/lib/python3.9/site-packages/xgboost/data.py:112: UserWarning: Use subset (sliced data) of np.ndarray is not recommended because it will generate extra copies and increase memory consumption\n",
      "  warnings.warn(\n"
     ]
    },
    {
     "data": {
      "text/plain": [
       "614.8546337516834"
      ]
     },
     "execution_count": 78,
     "metadata": {},
     "output_type": "execute_result"
    }
   ],
   "source": [
    "mean_absolute_error(test_y, base_xgb.predict(test_x))"
   ]
  },
  {
   "cell_type": "code",
   "execution_count": 79,
   "id": "assisted-freedom",
   "metadata": {},
   "outputs": [
    {
     "data": {
      "text/plain": [
       "4568.462258181219"
      ]
     },
     "execution_count": 79,
     "metadata": {},
     "output_type": "execute_result"
    }
   ],
   "source": [
    "data.price.mean()"
   ]
  },
  {
   "cell_type": "code",
   "execution_count": 80,
   "id": "handmade-outside",
   "metadata": {},
   "outputs": [
    {
     "data": {
      "image/png": "[encoded data removed]",
      "text/plain": [
       "<Figure size 864x432 with 1 Axes>"
      ]
     },
     "metadata": {
      "needs_background": "light"
     },
     "output_type": "display_data"
    }
   ],
   "source": [
    "xgb.plot_importance(base_xgb);"
   ]
  },
  {
   "cell_type": "code",
   "execution_count": null,
   "id": "comfortable-transparency",
   "metadata": {},
   "outputs": [],
   "source": []
  },
  {
   "cell_type": "code",
   "execution_count": null,
   "id": "mental-offense",
   "metadata": {},
   "outputs": [],
   "source": []
  },
  {
   "cell_type": "code",
   "execution_count": 81,
   "id": "engaging-turtle",
   "metadata": {},
   "outputs": [],
   "source": [
    "mape_df = test_y.to_frame()"
   ]
  },
  {
   "cell_type": "markdown",
   "id": "curious-mainland",
   "metadata": {},
   "source": [
    "#### XGBoost MAPE and MAAPE"
   ]
  },
  {
   "cell_type": "code",
   "execution_count": 82,
   "id": "third-melissa",
   "metadata": {},
   "outputs": [
    {
     "name": "stderr",
     "output_type": "stream",
     "text": [
      "/home/fantast/anaconda3/envs/coursera/lib/python3.9/site-packages/xgboost/data.py:112: UserWarning: Use subset (sliced data) of np.ndarray is not recommended because it will generate extra copies and increase memory consumption\n",
      "  warnings.warn(\n"
     ]
    }
   ],
   "source": [
    "pred_xgb = base_xgb.predict(test_x)"
   ]
  },
  {
   "cell_type": "code",
   "execution_count": 83,
   "id": "determined-cartoon",
   "metadata": {},
   "outputs": [],
   "source": [
    "mape_df['pred_price'] = pred_xgb"
   ]
  },
  {
   "cell_type": "code",
   "execution_count": 84,
   "id": "finnish-determination",
   "metadata": {},
   "outputs": [],
   "source": [
    "mape_df = mape_df[mape_df.price > 0]"
   ]
  },
  {
   "cell_type": "code",
   "execution_count": 85,
   "id": "breeding-flush",
   "metadata": {},
   "outputs": [
    {
     "data": {
      "text/plain": [
       "0.17503018199810255"
      ]
     },
     "execution_count": 85,
     "metadata": {},
     "output_type": "execute_result"
    }
   ],
   "source": [
    "mape(mape_df.price, mape_df.pred_price)"
   ]
  },
  {
   "cell_type": "code",
   "execution_count": 86,
   "id": "nonprofit-fetish",
   "metadata": {},
   "outputs": [
    {
     "data": {
      "text/plain": [
       "0.1481257149454911"
      ]
     },
     "execution_count": 86,
     "metadata": {},
     "output_type": "execute_result"
    }
   ],
   "source": [
    "maape(mape_df.price, mape_df.pred_price)"
   ]
  },
  {
   "cell_type": "code",
   "execution_count": 87,
   "id": "coastal-ebony",
   "metadata": {},
   "outputs": [
    {
     "name": "stderr",
     "output_type": "stream",
     "text": [
      "2021-10-08 13:34:22.838857: I tensorflow/stream_executor/platform/default/dso_loader.cc:53] Successfully opened dynamic library libcudart.so.11.0\n"
     ]
    },
    {
     "name": "stdout",
     "output_type": "stream",
     "text": [
      "INFO:tensorflow:Enabling eager execution\n",
      "INFO:tensorflow:Enabling v2 tensorshape\n",
      "INFO:tensorflow:Enabling resource variables\n",
      "INFO:tensorflow:Enabling tensor equality\n",
      "INFO:tensorflow:Enabling control flow v2\n"
     ]
    }
   ],
   "source": [
    "import shap"
   ]
  },
  {
   "cell_type": "code",
   "execution_count": 88,
   "id": "immediate-wound",
   "metadata": {},
   "outputs": [
    {
     "name": "stderr",
     "output_type": "stream",
     "text": [
      "ntree_limit is deprecated, use `iteration_range` or model slicing instead.\n"
     ]
    },
    {
     "data": {
      "image/png": "[encoded data removed]",
      "text/plain": [
       "<Figure size 576x468 with 3 Axes>"
      ]
     },
     "metadata": {},
     "output_type": "display_data"
    }
   ],
   "source": [
    "explainer = shap.Explainer(base_xgb)\n",
    "shap_values = explainer(train_x)\n",
    "\n",
    "# visualize the first prediction's explanation\n",
    "shap.plots.waterfall(shap_values[0])"
   ]
  },
  {
   "cell_type": "code",
   "execution_count": 89,
   "id": "weekly-toner",
   "metadata": {},
   "outputs": [
    {
     "data": {
      "image/png": "[encoded data removed]",
      "text/plain": [
       "<Figure size 576x396 with 2 Axes>"
      ]
     },
     "metadata": {
      "needs_background": "light"
     },
     "output_type": "display_data"
    }
   ],
   "source": [
    "# summarize the effects of all the features\n",
    "shap.plots.beeswarm(shap_values)"
   ]
  },
  {
   "cell_type": "markdown",
   "id": "controversial-arena",
   "metadata": {},
   "source": [
    "We can also just take the mean absolute value of the SHAP values for each feature to get a standard bar plot (produces stacked bars for multi-class outputs):"
   ]
  },
  {
   "cell_type": "code",
   "execution_count": 90,
   "id": "international-courage",
   "metadata": {},
   "outputs": [
    {
     "data": {
      "image/png": "[encoded data removed]",
      "text/plain": [
       "<Figure size 576x468 with 1 Axes>"
      ]
     },
     "metadata": {},
     "output_type": "display_data"
    }
   ],
   "source": [
    "shap.plots.bar(shap_values)"
   ]
  },
  {
   "cell_type": "markdown",
   "id": "valid-setup",
   "metadata": {},
   "source": [
    "### Save models"
   ]
  },
  {
   "cell_type": "code",
   "execution_count": 93,
   "id": "alpha-pipeline",
   "metadata": {},
   "outputs": [
    {
     "data": {
      "text/plain": [
       "['xgb_model.pkl']"
      ]
     },
     "execution_count": 93,
     "metadata": {},
     "output_type": "execute_result"
    }
   ],
   "source": [
    "import joblib\n",
    "\n",
    "joblib.dump(value=base_xgb, filename='xgb_model.pkl')"
   ]
  },
  {
   "cell_type": "code",
   "execution_count": 94,
   "id": "breathing-somerset",
   "metadata": {},
   "outputs": [],
   "source": [
    "base_xgb = joblib.load(filename='xgb_model.pkl')"
   ]
  },
  {
   "cell_type": "code",
   "execution_count": null,
   "id": "communist-worthy",
   "metadata": {},
   "outputs": [],
   "source": []
  }
 ],
 "metadata": {
  "kernelspec": {
   "display_name": "Python [conda env:coursera]",
   "language": "python",
   "name": "conda-env-coursera-py"
  },
  "language_info": {
   "codemirror_mode": {
    "name": "ipython",
    "version": 3
   },
   "file_extension": ".py",
   "mimetype": "text/x-python",
   "name": "python",
   "nbconvert_exporter": "python",
   "pygments_lexer": "ipython3",
   "version": "3.9.7"
  }
 },
 "nbformat": 4,
 "nbformat_minor": 5
}
