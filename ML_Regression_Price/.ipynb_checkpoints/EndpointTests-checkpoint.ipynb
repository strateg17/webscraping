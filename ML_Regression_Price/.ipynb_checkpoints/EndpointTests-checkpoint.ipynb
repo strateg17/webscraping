{
 "cells": [
  {
   "cell_type": "code",
   "execution_count": 1,
   "id": "commercial-lexington",
   "metadata": {},
   "outputs": [],
   "source": [
    "import urllib.request\n",
    "import json\n",
    "import os\n",
    "import ssl"
   ]
  },
  {
   "cell_type": "code",
   "execution_count": 2,
   "id": "pleased-determination",
   "metadata": {},
   "outputs": [],
   "source": [
    "def allowSelfSignedHttps(allowed):\n",
    "    # bypass the server certificate verification on client side\n",
    "    if allowed and not os.environ.get('PYTHONHTTPSVERIFY', '') and getattr(ssl, '_create_unverified_context', None):\n",
    "        ssl._create_default_https_context = ssl._create_unverified_context\n",
    "\n",
    "allowSelfSignedHttps(True) # this line is needed if you use self-signed certificate in your scoring service."
   ]
  },
  {
   "cell_type": "code",
   "execution_count": 3,
   "id": "bearing-monthly",
   "metadata": {},
   "outputs": [],
   "source": [
    "# Request data goes here\n",
    "data = {\n",
    "    \"data\":\n",
    "    [\n",
    "        {\n",
    "            'tag_seller': \"1\",\n",
    "            'tag_condition': \"1\",\n",
    "            'storage_gb': \"32\",\n",
    "            'neverlock': \"1\",\n",
    "            'loan': \"0\",\n",
    "            'installment_loan': \"0\",\n",
    "            'guarantee': \"0\",\n",
    "            'color_black': \"1\",\n",
    "            'color_rose': \"0\",\n",
    "            'color_gold': \"0\",\n",
    "            'color_silver': \"0\",\n",
    "            'color_red': \"0\",\n",
    "            'chargin_adapter': \"1\",\n",
    "            'wire': \"0\",\n",
    "            'box': \"0\",\n",
    "            'case': \"0\",\n",
    "            'glass': \"0\",\n",
    "            'earphones': \"0\",\n",
    "            'discount': \"0\",\n",
    "            'time_exec_pub': \"10\",\n",
    "            'time_seller_reg': \"365\",\n",
    "        },\n",
    "    ],\n",
    "}"
   ]
  },
  {
   "cell_type": "code",
   "execution_count": 4,
   "id": "constitutional-specialist",
   "metadata": {},
   "outputs": [
    {
     "name": "stdout",
     "output_type": "stream",
     "text": [
      "b'\"{\\\\\"result\\\\\": [6364.61328125]}\"'\n"
     ]
    }
   ],
   "source": [
    "body = str.encode(json.dumps(data))\n",
    "\n",
    "url = 'http://5c91c6db-1130-4a5b-8a97-74fd2a13967c.centralus.azurecontainer.io/score'\n",
    "api_key = '' # Replace this with the API key for the web service\n",
    "headers = {'Content-Type':'application/json', 'Authorization':('Bearer '+ api_key)}\n",
    "\n",
    "req = urllib.request.Request(url, body, headers)\n",
    "\n",
    "try:\n",
    "    response = urllib.request.urlopen(req)\n",
    "\n",
    "    result = response.read()\n",
    "    print(result)\n",
    "except urllib.error.HTTPError as error:\n",
    "    print(\"The request failed with status code: \" + str(error.code))\n",
    "\n",
    "    # Print the headers - they include the requert ID and the timestamp, which are useful for debugging the failure\n",
    "    print(error.info())\n",
    "    print(json.loads(error.read().decode(\"utf8\", 'ignore')))"
   ]
  },
  {
   "cell_type": "code",
   "execution_count": null,
   "id": "needed-parker",
   "metadata": {},
   "outputs": [],
   "source": []
  }
 ],
 "metadata": {
  "kernelspec": {
   "display_name": "Python [conda env:web]",
   "language": "python",
   "name": "conda-env-web-py"
  },
  "language_info": {
   "codemirror_mode": {
    "name": "ipython",
    "version": 3
   },
   "file_extension": ".py",
   "mimetype": "text/x-python",
   "name": "python",
   "nbconvert_exporter": "python",
   "pygments_lexer": "ipython3",
   "version": "3.8.5"
  }
 },
 "nbformat": 4,
 "nbformat_minor": 5
}
