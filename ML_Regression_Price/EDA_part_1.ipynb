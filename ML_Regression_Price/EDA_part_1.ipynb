{
 "cells": [
  {
   "cell_type": "code",
   "execution_count": 1,
   "id": "sized-spray",
   "metadata": {},
   "outputs": [],
   "source": [
    "import pandas as pd\n",
    "\n",
    "import seaborn as sns\n",
    "import matplotlib.pyplot as plt\n",
    "\n",
    "%matplotlib inline"
   ]
  },
  {
   "cell_type": "code",
   "execution_count": 2,
   "id": "guilty-tuner",
   "metadata": {},
   "outputs": [],
   "source": [
    "# Increase default figure and font sizes for easier viewing.\n",
    "plt.style.use('seaborn-colorblind')\n",
    "sns.set_style('darkgrid')\n",
    "%matplotlib inline\n",
    "\n",
    "plt.rcParams['figure.figsize'] = (12, 6)\n",
    "plt.rcParams['font.size'] = 12"
   ]
  },
  {
   "cell_type": "code",
   "execution_count": 3,
   "id": "vocal-given",
   "metadata": {},
   "outputs": [],
   "source": [
    "data = pd.read_parquet('data_features.parquet.gzip') "
   ]
  },
  {
   "cell_type": "code",
   "execution_count": 4,
   "id": "expanded-substance",
   "metadata": {},
   "outputs": [
    {
     "data": {
      "text/html": [
       "<div>\n",
       "<style scoped>\n",
       "    .dataframe tbody tr th:only-of-type {\n",
       "        vertical-align: middle;\n",
       "    }\n",
       "\n",
       "    .dataframe tbody tr th {\n",
       "        vertical-align: top;\n",
       "    }\n",
       "\n",
       "    .dataframe thead th {\n",
       "        text-align: right;\n",
       "    }\n",
       "</style>\n",
       "<table border=\"1\" class=\"dataframe\">\n",
       "  <thead>\n",
       "    <tr style=\"text-align: right;\">\n",
       "      <th></th>\n",
       "      <th>price</th>\n",
       "      <th>tag_seller</th>\n",
       "      <th>tag_condition</th>\n",
       "      <th>storage_gb</th>\n",
       "      <th>neverlock</th>\n",
       "      <th>loan</th>\n",
       "      <th>installment_loan</th>\n",
       "      <th>guarantee</th>\n",
       "      <th>color_black</th>\n",
       "      <th>color_rose</th>\n",
       "      <th>...</th>\n",
       "      <th>color_red</th>\n",
       "      <th>chargin_adapter</th>\n",
       "      <th>wire</th>\n",
       "      <th>box</th>\n",
       "      <th>case</th>\n",
       "      <th>glass</th>\n",
       "      <th>earphones</th>\n",
       "      <th>discount</th>\n",
       "      <th>time_exec_pub</th>\n",
       "      <th>time_seller_reg</th>\n",
       "    </tr>\n",
       "  </thead>\n",
       "  <tbody>\n",
       "    <tr>\n",
       "      <th>0</th>\n",
       "      <td>5899.00</td>\n",
       "      <td>1</td>\n",
       "      <td>0</td>\n",
       "      <td>32</td>\n",
       "      <td>0</td>\n",
       "      <td>1</td>\n",
       "      <td>0</td>\n",
       "      <td>0</td>\n",
       "      <td>1</td>\n",
       "      <td>1</td>\n",
       "      <td>...</td>\n",
       "      <td>0</td>\n",
       "      <td>0</td>\n",
       "      <td>0</td>\n",
       "      <td>0</td>\n",
       "      <td>0</td>\n",
       "      <td>0</td>\n",
       "      <td>0</td>\n",
       "      <td>0</td>\n",
       "      <td>2.0</td>\n",
       "      <td>1608.0</td>\n",
       "    </tr>\n",
       "    <tr>\n",
       "      <th>1</th>\n",
       "      <td>5594.86</td>\n",
       "      <td>1</td>\n",
       "      <td>0</td>\n",
       "      <td>32</td>\n",
       "      <td>0</td>\n",
       "      <td>0</td>\n",
       "      <td>0</td>\n",
       "      <td>1</td>\n",
       "      <td>1</td>\n",
       "      <td>1</td>\n",
       "      <td>...</td>\n",
       "      <td>0</td>\n",
       "      <td>0</td>\n",
       "      <td>1</td>\n",
       "      <td>0</td>\n",
       "      <td>0</td>\n",
       "      <td>0</td>\n",
       "      <td>0</td>\n",
       "      <td>0</td>\n",
       "      <td>2.0</td>\n",
       "      <td>1669.0</td>\n",
       "    </tr>\n",
       "  </tbody>\n",
       "</table>\n",
       "<p>2 rows × 22 columns</p>\n",
       "</div>"
      ],
      "text/plain": [
       "     price  tag_seller  tag_condition  storage_gb  neverlock  loan  \\\n",
       "0  5899.00           1              0          32          0     1   \n",
       "1  5594.86           1              0          32          0     0   \n",
       "\n",
       "   installment_loan  guarantee  color_black  color_rose  ...  color_red  \\\n",
       "0                 0          0            1           1  ...          0   \n",
       "1                 0          1            1           1  ...          0   \n",
       "\n",
       "   chargin_adapter  wire  box  case  glass  earphones  discount  \\\n",
       "0                0     0    0     0      0          0         0   \n",
       "1                0     1    0     0      0          0         0   \n",
       "\n",
       "   time_exec_pub  time_seller_reg  \n",
       "0            2.0           1608.0  \n",
       "1            2.0           1669.0  \n",
       "\n",
       "[2 rows x 22 columns]"
      ]
     },
     "execution_count": 4,
     "metadata": {},
     "output_type": "execute_result"
    }
   ],
   "source": [
    "data.head(2)"
   ]
  },
  {
   "cell_type": "code",
   "execution_count": 7,
   "id": "similar-spouse",
   "metadata": {},
   "outputs": [
    {
     "data": {
      "image/png": "[encoded data removed]",
      "text/plain": [
       "<Figure size 360x360 with 1 Axes>"
      ]
     },
     "metadata": {
      "needs_background": "light"
     },
     "output_type": "display_data"
    }
   ],
   "source": [
    "sns.displot(data=data[data.price < 20000], x='price');\n",
    "\n",
    "plt.title('Price distribution plot')\n",
    "plt.xlabel('Price')\n",
    "plt.ylabel('Quantity')\n",
    "plt.show();"
   ]
  },
  {
   "cell_type": "code",
   "execution_count": 18,
   "id": "automatic-guidance",
   "metadata": {},
   "outputs": [
    {
     "data": {
      "image/png": "[encoded data removed]",
      "text/plain": [
       "<Figure size 864x432 with 1 Axes>"
      ]
     },
     "metadata": {
      "needs_background": "light"
     },
     "output_type": "display_data"
    }
   ],
   "source": [
    "data.tag_seller.value_counts().sort_values(ascending=True).plot(kind='barh',)\n",
    "\n",
    "plt.title('Sellers')\n",
    "plt.xlabel('Quantity')\n",
    "plt.yticks([0, 1], ['Private', 'Business'])\n",
    "\n",
    "plt.show();"
   ]
  },
  {
   "cell_type": "code",
   "execution_count": 20,
   "id": "statistical-explorer",
   "metadata": {},
   "outputs": [
    {
     "data": {
      "image/png": "[encoded data removed]",
      "text/plain": [
       "<Figure size 864x432 with 1 Axes>"
      ]
     },
     "metadata": {
      "needs_background": "light"
     },
     "output_type": "display_data"
    }
   ],
   "source": [
    "data.tag_condition.value_counts().sort_values(ascending=True).plot(kind='barh',)\n",
    "\n",
    "plt.title('Condition')\n",
    "plt.xlabel('Quantity')\n",
    "plt.yticks([0, 1], ['Used', 'New'])\n",
    "\n",
    "plt.show();"
   ]
  },
  {
   "cell_type": "code",
   "execution_count": 25,
   "id": "nuclear-entrepreneur",
   "metadata": {},
   "outputs": [
    {
     "data": {
      "image/png": "[encoded data removed]",
      "text/plain": [
       "<Figure size 864x432 with 1 Axes>"
      ]
     },
     "metadata": {
      "needs_background": "light"
     },
     "output_type": "display_data"
    }
   ],
   "source": [
    "data[data.storage_gb != 0].storage_gb.value_counts().sort_values(ascending=True).plot(kind='barh',)\n",
    "\n",
    "plt.title('Storage volume')\n",
    "plt.xlabel('Quantity')\n",
    "plt.ylabel('Storage, gb')\n",
    "\n",
    "plt.show();"
   ]
  },
  {
   "cell_type": "code",
   "execution_count": null,
   "id": "sixth-arizona",
   "metadata": {},
   "outputs": [],
   "source": []
  }
 ],
 "metadata": {
  "interpreter": {
   "hash": "66de37fc7074859206d34f78b8b26d1dea560b6b0c2736a277d164c37269472a"
  },
  "kernelspec": {
   "display_name": "Python 3",
   "language": "python",
   "name": "python3"
  },
  "language_info": {
   "codemirror_mode": {
    "name": "ipython",
    "version": 3
   },
   "file_extension": ".py",
   "mimetype": "text/x-python",
   "name": "python",
   "nbconvert_exporter": "python",
   "pygments_lexer": "ipython3",
   "version": "3.8.5"
  }
 },
 "nbformat": 4,
 "nbformat_minor": 5
}
